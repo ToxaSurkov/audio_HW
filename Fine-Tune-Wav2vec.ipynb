{
 "cells": [
  {
   "cell_type": "code",
   "execution_count": 1,
   "id": "7025daa3",
   "metadata": {},
   "outputs": [],
   "source": [
    "# !conda install --yes numpy"
   ]
  },
  {
   "cell_type": "code",
   "execution_count": 1,
   "id": "649fbe8a",
   "metadata": {},
   "outputs": [],
   "source": [
    "import torch"
   ]
  },
  {
   "cell_type": "code",
   "execution_count": 2,
   "id": "d2de7787",
   "metadata": {},
   "outputs": [
    {
     "data": {
      "text/plain": [
       "True"
      ]
     },
     "execution_count": 2,
     "metadata": {},
     "output_type": "execute_result"
    }
   ],
   "source": [
    "torch.cuda.is_available()"
   ]
  },
  {
   "cell_type": "code",
   "execution_count": 3,
   "id": "5d06685d",
   "metadata": {},
   "outputs": [
    {
     "name": "stdout",
     "output_type": "stream",
     "text": [
      "Thu Dec 15 00:44:08 2022       \n",
      "+-----------------------------------------------------------------------------+\n",
      "| NVIDIA-SMI 470.161.03   Driver Version: 470.161.03   CUDA Version: 11.4     |\n",
      "|-------------------------------+----------------------+----------------------+\n",
      "| GPU  Name        Persistence-M| Bus-Id        Disp.A | Volatile Uncorr. ECC |\n",
      "| Fan  Temp  Perf  Pwr:Usage/Cap|         Memory-Usage | GPU-Util  Compute M. |\n",
      "|                               |                      |               MIG M. |\n",
      "|===============================+======================+======================|\n",
      "|   0  NVIDIA GeForce ...  Off  | 00000000:01:00.0 Off |                  N/A |\n",
      "| N/A   49C    P8    N/A /  N/A |    179MiB /  3020MiB |      0%      Default |\n",
      "|                               |                      |                  N/A |\n",
      "+-------------------------------+----------------------+----------------------+\n",
      "                                                                               \n",
      "+-----------------------------------------------------------------------------+\n",
      "| Processes:                                                                  |\n",
      "|  GPU   GI   CI        PID   Type   Process name                  GPU Memory |\n",
      "|        ID   ID                                                   Usage      |\n",
      "|=============================================================================|\n",
      "|    0   N/A  N/A      1252      G   /usr/lib/xorg/Xorg                  4MiB |\n",
      "|    0   N/A  N/A      2010      G   /usr/lib/xorg/Xorg                 44MiB |\n",
      "|    0   N/A  N/A      3666    C+G   ...210820683736198680,131072      124MiB |\n",
      "+-----------------------------------------------------------------------------+\n"
     ]
    }
   ],
   "source": [
    "!nvidia-smi"
   ]
  },
  {
   "cell_type": "code",
   "execution_count": 4,
   "id": "5f7813f7",
   "metadata": {},
   "outputs": [],
   "source": [
    "# %%capture\n",
    "# !pip install datasets\n",
    "# !pip install transformers\n",
    "# !pip install torchaudio\n",
    "# !pip install librosa\n",
    "# !pip install jiwer"
   ]
  },
  {
   "cell_type": "code",
   "execution_count": 5,
   "id": "d90b15ab",
   "metadata": {},
   "outputs": [],
   "source": [
    "from datasets import load_dataset, load_metric, Audio"
   ]
  },
  {
   "cell_type": "code",
   "execution_count": 4,
   "id": "9be015c3",
   "metadata": {},
   "outputs": [
    {
     "name": "stderr",
     "output_type": "stream",
     "text": [
      "Found cached dataset common_voice (/home/toxa/.cache/huggingface/datasets/common_voice/ru/6.1.0/a1dc74461f6c839bfe1e8cf1262fd4cf24297e3fbd4087a711bd090779023a5e)\n",
      "Found cached dataset common_voice (/home/toxa/.cache/huggingface/datasets/common_voice/ru/6.1.0/a1dc74461f6c839bfe1e8cf1262fd4cf24297e3fbd4087a711bd090779023a5e)\n"
     ]
    }
   ],
   "source": [
    "\n",
    "common_voice_train = load_dataset(\"common_voice\", \"ru\", split=\"train+validation\")\n",
    "common_voice_test = load_dataset(\"common_voice\", \"ru\", split=\"test\")"
   ]
  },
  {
   "cell_type": "code",
   "execution_count": 8,
   "id": "06f3eadd",
   "metadata": {},
   "outputs": [],
   "source": [
    "common_voice_test.#иначе оверфлоу по памяти"
   ]
  },
  {
   "cell_type": "code",
   "execution_count": 17,
   "id": "5fc0715b",
   "metadata": {},
   "outputs": [],
   "source": [
    "common_voice_test = common_voice_test.select([i for i in range(3000)]) #иначе оверфлоу по видеопамяти"
   ]
  },
  {
   "cell_type": "code",
   "execution_count": 18,
   "id": "24f927e8",
   "metadata": {},
   "outputs": [],
   "source": [
    "common_voice_train = common_voice_train.remove_columns([\"accent\", \"age\", \"client_id\", \"down_votes\", \"gender\", \"locale\", \"segment\", \"up_votes\"])\n",
    "common_voice_test = common_voice_test.remove_columns([\"accent\", \"age\", \"client_id\", \"down_votes\", \"gender\", \"locale\", \"segment\", \"up_votes\"])"
   ]
  },
  {
   "cell_type": "code",
   "execution_count": 19,
   "id": "13b9a38b",
   "metadata": {},
   "outputs": [],
   "source": [
    "from datasets import ClassLabel\n",
    "import random\n",
    "import pandas as pd\n",
    "from IPython.display import display, HTML\n",
    "\n",
    "def show_random_elements(dataset, num_examples=10):\n",
    "    assert num_examples <= len(dataset), \"Can't pick more elements than there are in the dataset.\"\n",
    "    picks = []\n",
    "    for _ in range(num_examples):\n",
    "        pick = random.randint(0, len(dataset)-1)\n",
    "        while pick in picks:\n",
    "            pick = random.randint(0, len(dataset)-1)\n",
    "        picks.append(pick)\n",
    "    \n",
    "    df = pd.DataFrame(dataset[picks])\n",
    "    display(HTML(df.to_html()))"
   ]
  },
  {
   "cell_type": "code",
   "execution_count": 20,
   "id": "7069ed7e",
   "metadata": {},
   "outputs": [],
   "source": [
    "import re\n",
    "chars_to_ignore_regex = '[\\,\\?\\.\\!\\-\\;\\:\\\"\\“\\%\\‘\\”\\�]'\n",
    "\n",
    "def remove_special_characters(batch):\n",
    "    batch[\"sentence\"] = re.sub(chars_to_ignore_regex, '', batch[\"sentence\"]).lower() + \" \"\n",
    "    return batch"
   ]
  },
  {
   "cell_type": "code",
   "execution_count": 21,
   "id": "6a0b9875",
   "metadata": {},
   "outputs": [
    {
     "name": "stderr",
     "output_type": "stream",
     "text": [
      "Loading cached processed dataset at /home/toxa/.cache/huggingface/datasets/common_voice/ru/6.1.0/a1dc74461f6c839bfe1e8cf1262fd4cf24297e3fbd4087a711bd090779023a5e/cache-3cb53764b8952f07.arrow\n"
     ]
    },
    {
     "data": {
      "application/vnd.jupyter.widget-view+json": {
       "model_id": "ab66453e6eb94f7e8d679760b9aabe5d",
       "version_major": 2,
       "version_minor": 0
      },
      "text/plain": [
       "  0%|          | 0/3000 [00:00<?, ?ex/s]"
      ]
     },
     "metadata": {},
     "output_type": "display_data"
    }
   ],
   "source": [
    "common_voice_train = common_voice_train.map(remove_special_characters)\n",
    "common_voice_test = common_voice_test.map(remove_special_characters)"
   ]
  },
  {
   "cell_type": "code",
   "execution_count": 22,
   "id": "512c08f4",
   "metadata": {},
   "outputs": [
    {
     "data": {
      "text/html": [
       "<table border=\"1\" class=\"dataframe\">\n",
       "  <thead>\n",
       "    <tr style=\"text-align: right;\">\n",
       "      <th></th>\n",
       "      <th>sentence</th>\n",
       "    </tr>\n",
       "  </thead>\n",
       "  <tbody>\n",
       "    <tr>\n",
       "      <th>0</th>\n",
       "      <td>по прошествии десятилетий восстановлен избирательный процесс что сделало возможным появление в стране демократического руководства</td>\n",
       "    </tr>\n",
       "    <tr>\n",
       "      <th>1</th>\n",
       "      <td>однако я хотела бы немного уточнить некоторые моменты</td>\n",
       "    </tr>\n",
       "    <tr>\n",
       "      <th>2</th>\n",
       "      <td>именно палестинская территория находится под оккупацией</td>\n",
       "    </tr>\n",
       "    <tr>\n",
       "      <th>3</th>\n",
       "      <td>мы тем не менее испытываем оптимизм по поводу будущих уровней роста</td>\n",
       "    </tr>\n",
       "    <tr>\n",
       "      <th>4</th>\n",
       "      <td>многосторонний разоруженческий механизм организации объединенных наций дает сбой</td>\n",
       "    </tr>\n",
       "    <tr>\n",
       "      <th>5</th>\n",
       "      <td>анна всё утро провела с долли и с детьми</td>\n",
       "    </tr>\n",
       "    <tr>\n",
       "      <th>6</th>\n",
       "      <td>и наконец низкий баритон запел</td>\n",
       "    </tr>\n",
       "    <tr>\n",
       "      <th>7</th>\n",
       "      <td>мы считаем что региональные механизмы дополняют усилия по продвижению вперед глобальной разоруженческой повестки дня</td>\n",
       "    </tr>\n",
       "    <tr>\n",
       "      <th>8</th>\n",
       "      <td>япония полностью поддерживает план председателя относительно обсуждений на пленарных заседаниях</td>\n",
       "    </tr>\n",
       "    <tr>\n",
       "      <th>9</th>\n",
       "      <td>необходимо чтобы обладающие ядерным оружием</td>\n",
       "    </tr>\n",
       "  </tbody>\n",
       "</table>"
      ],
      "text/plain": [
       "<IPython.core.display.HTML object>"
      ]
     },
     "metadata": {},
     "output_type": "display_data"
    }
   ],
   "source": [
    "show_random_elements(common_voice_train.remove_columns([\"path\",\"audio\"]))"
   ]
  },
  {
   "cell_type": "code",
   "execution_count": 23,
   "id": "c674f6b5",
   "metadata": {},
   "outputs": [],
   "source": [
    "def extract_all_chars(batch):\n",
    "    all_text = \" \".join(batch[\"sentence\"])\n",
    "    vocab = list(set(all_text))\n",
    "    return {\"vocab\": [vocab], \"all_text\": [all_text]}"
   ]
  },
  {
   "cell_type": "code",
   "execution_count": 24,
   "id": "9ca19178",
   "metadata": {},
   "outputs": [
    {
     "data": {
      "application/vnd.jupyter.widget-view+json": {
       "model_id": "a681bc536fe948278bca1f781811bb91",
       "version_major": 2,
       "version_minor": 0
      },
      "text/plain": [
       "  0%|          | 0/1 [00:00<?, ?ba/s]"
      ]
     },
     "metadata": {},
     "output_type": "display_data"
    },
    {
     "data": {
      "application/vnd.jupyter.widget-view+json": {
       "model_id": "37b67cc768624a32888ea98bffe00b8e",
       "version_major": 2,
       "version_minor": 0
      },
      "text/plain": [
       "  0%|          | 0/1 [00:00<?, ?ba/s]"
      ]
     },
     "metadata": {},
     "output_type": "display_data"
    }
   ],
   "source": [
    "vocab_train = common_voice_train.map(extract_all_chars, batched=True, batch_size=-1, keep_in_memory=True, remove_columns=common_voice_train.column_names)\n",
    "vocab_test = common_voice_test.map(extract_all_chars, batched=True, batch_size=-1, keep_in_memory=True, remove_columns=common_voice_test.column_names)"
   ]
  },
  {
   "cell_type": "code",
   "execution_count": 25,
   "id": "4ce69216",
   "metadata": {},
   "outputs": [],
   "source": [
    "vocab_list = list(set(vocab_train[\"vocab\"][0]) | set(vocab_test[\"vocab\"][0]))"
   ]
  },
  {
   "cell_type": "code",
   "execution_count": 26,
   "id": "68ae2c4c",
   "metadata": {},
   "outputs": [
    {
     "data": {
      "text/plain": [
       "{'е': 0,\n",
       " 'я': 1,\n",
       " 'и': 2,\n",
       " 'n': 3,\n",
       " ' ': 4,\n",
       " 'б': 5,\n",
       " 'а': 6,\n",
       " ')': 7,\n",
       " 'п': 8,\n",
       " 'ж': 9,\n",
       " '«': 10,\n",
       " 'i': 11,\n",
       " 'r': 12,\n",
       " 'к': 13,\n",
       " 'c': 14,\n",
       " '(': 15,\n",
       " 'ы': 16,\n",
       " '–': 17,\n",
       " 'k': 18,\n",
       " 'м': 19,\n",
       " 'н': 20,\n",
       " 'x': 21,\n",
       " 'ё': 22,\n",
       " 'g': 23,\n",
       " 'ф': 24,\n",
       " 'ч': 25,\n",
       " 'г': 26,\n",
       " 'ц': 27,\n",
       " 'ъ': 28,\n",
       " 'о': 29,\n",
       " 'д': 30,\n",
       " 'ш': 31,\n",
       " 'p': 32,\n",
       " 'л': 33,\n",
       " 'щ': 34,\n",
       " 'z': 35,\n",
       " 'f': 36,\n",
       " 'з': 37,\n",
       " 'у': 38,\n",
       " 't': 39,\n",
       " 'т': 40,\n",
       " 'l': 41,\n",
       " 'й': 42,\n",
       " '‑': 43,\n",
       " '…': 44,\n",
       " '»': 45,\n",
       " 'm': 46,\n",
       " '−': 47,\n",
       " \"'\": 48,\n",
       " 'в': 49,\n",
       " 'e': 50,\n",
       " 'ю': 51,\n",
       " 'ь': 52,\n",
       " 'o': 53,\n",
       " 'a': 54,\n",
       " 'р': 55,\n",
       " 's': 56,\n",
       " '—': 57,\n",
       " 'х': 58,\n",
       " 'с': 59,\n",
       " 'b': 60,\n",
       " 'h': 61,\n",
       " 'э': 62}"
      ]
     },
     "execution_count": 26,
     "metadata": {},
     "output_type": "execute_result"
    }
   ],
   "source": [
    "vocab_dict = {v: k for k, v in enumerate(vocab_list)}\n",
    "vocab_dict"
   ]
  },
  {
   "cell_type": "code",
   "execution_count": 27,
   "id": "71c7f443",
   "metadata": {},
   "outputs": [],
   "source": [
    "vocab_dict[\"|\"] = vocab_dict[\" \"]\n",
    "del vocab_dict[\" \"]"
   ]
  },
  {
   "cell_type": "code",
   "execution_count": 28,
   "id": "3ac78643",
   "metadata": {},
   "outputs": [
    {
     "data": {
      "text/plain": [
       "65"
      ]
     },
     "execution_count": 28,
     "metadata": {},
     "output_type": "execute_result"
    }
   ],
   "source": [
    "vocab_dict[\"[UNK]\"] = len(vocab_dict)\n",
    "vocab_dict[\"[PAD]\"] = len(vocab_dict)\n",
    "len(vocab_dict)"
   ]
  },
  {
   "cell_type": "code",
   "execution_count": 29,
   "id": "4d608d57",
   "metadata": {},
   "outputs": [],
   "source": [
    "import json\n",
    "with open('vocab.json', 'w') as vocab_file:\n",
    "    json.dump(vocab_dict, vocab_file)"
   ]
  },
  {
   "cell_type": "code",
   "execution_count": 6,
   "id": "f8ec3841",
   "metadata": {},
   "outputs": [],
   "source": [
    "from transformers import Wav2Vec2CTCTokenizer\n",
    "\n",
    "tokenizer = Wav2Vec2CTCTokenizer(\"./vocab.json\", unk_token=\"[UNK]\", pad_token=\"[PAD]\", word_delimiter_token=\"|\")"
   ]
  },
  {
   "cell_type": "code",
   "execution_count": 7,
   "id": "545352e0",
   "metadata": {},
   "outputs": [],
   "source": [
    "from transformers import Wav2Vec2FeatureExtractor\n",
    "\n",
    "feature_extractor = Wav2Vec2FeatureExtractor(feature_size=1, sampling_rate=16000, padding_value=0.0, do_normalize=True, return_attention_mask=True)"
   ]
  },
  {
   "cell_type": "code",
   "execution_count": 8,
   "id": "ab57915e",
   "metadata": {},
   "outputs": [],
   "source": [
    "from transformers import Wav2Vec2Processor\n",
    "\n",
    "processor = Wav2Vec2Processor(feature_extractor=feature_extractor, tokenizer=tokenizer)"
   ]
  },
  {
   "cell_type": "code",
   "execution_count": 33,
   "id": "66cbaa5a",
   "metadata": {},
   "outputs": [],
   "source": [
    "common_voice_train = common_voice_train.cast_column(\"audio\", Audio(sampling_rate=16_000))\n",
    "common_voice_test = common_voice_test.cast_column(\"audio\", Audio(sampling_rate=16_000))"
   ]
  },
  {
   "cell_type": "code",
   "execution_count": 34,
   "id": "2eb01671",
   "metadata": {},
   "outputs": [
    {
     "data": {
      "text/html": [
       "\n",
       "                <audio  controls=\"controls\" autoplay=\"autoplay\">\n",
       "                    <source src=\"data:audio/wav;base64,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\" type=\"audio/wav\" />\n",
       "                    Your browser does not support the audio element.\n",
       "                </audio>\n",
       "              "
      ],
      "text/plain": [
       "<IPython.lib.display.Audio object>"
      ]
     },
     "execution_count": 34,
     "metadata": {},
     "output_type": "execute_result"
    }
   ],
   "source": [
    "import IPython.display as ipd\n",
    "import numpy as np\n",
    "import random\n",
    "\n",
    "rand_int = random.randint(0, len(common_voice_train)-1)\n",
    "\n",
    "ipd.Audio(data=common_voice_train[rand_int][\"audio\"][\"array\"], autoplay=True, rate=16000)"
   ]
  },
  {
   "cell_type": "code",
   "execution_count": 102,
   "id": "a9e8c2ac",
   "metadata": {},
   "outputs": [],
   "source": [
    "def prepare_dataset(batch):\n",
    "    audio = batch[\"audio\"]\n",
    "\n",
    "    # batched output is \"un-batched\"\n",
    "    batch[\"input_values\"] = processor(audio[\"array\"], sampling_rate=audio[\"sampling_rate\"]).input_values[0]\n",
    "    \n",
    "    with processor.as_target_processor():\n",
    "        batch[\"labels\"] = processor(batch[\"sentence\"]).input_ids\n",
    "    return batch"
   ]
  },
  {
   "cell_type": "code",
   "execution_count": 36,
   "id": "3b8c5931",
   "metadata": {},
   "outputs": [],
   "source": [
    "import torch"
   ]
  },
  {
   "cell_type": "code",
   "execution_count": 37,
   "id": "8600e12f",
   "metadata": {},
   "outputs": [
    {
     "data": {
      "text/plain": [
       "'1.12.1'"
      ]
     },
     "execution_count": 37,
     "metadata": {},
     "output_type": "execute_result"
    }
   ],
   "source": [
    "torch.__version__"
   ]
  },
  {
   "cell_type": "code",
   "execution_count": 38,
   "id": "17298840",
   "metadata": {},
   "outputs": [
    {
     "data": {
      "application/vnd.jupyter.widget-view+json": {
       "model_id": "21fac946aea3477d889aca26cde21386",
       "version_major": 2,
       "version_minor": 0
      },
      "text/plain": [
       "  0%|          | 0/23444 [00:00<?, ?ex/s]"
      ]
     },
     "metadata": {},
     "output_type": "display_data"
    },
    {
     "name": "stderr",
     "output_type": "stream",
     "text": [
      "/home/toxa/anaconda3/lib/python3.9/site-packages/transformers/models/wav2vec2/processing_wav2vec2.py:155: UserWarning: `as_target_processor` is deprecated and will be removed in v5 of Transformers. You can process your labels by using the argument `text` of the regular `__call__` method (either in the same call as your audio inputs, or in a separate call.\n",
      "  warnings.warn(\n"
     ]
    },
    {
     "data": {
      "application/vnd.jupyter.widget-view+json": {
       "model_id": "0dfcc24eb39f4de6b5074528985fa01c",
       "version_major": 2,
       "version_minor": 0
      },
      "text/plain": [
       "  0%|          | 0/3000 [00:00<?, ?ex/s]"
      ]
     },
     "metadata": {},
     "output_type": "display_data"
    }
   ],
   "source": [
    "common_voice_train = common_voice_train.map(prepare_dataset, remove_columns=common_voice_train.column_names, num_proc=1)\n",
    "common_voice_test = common_voice_test.map(prepare_dataset, remove_columns=common_voice_test.column_names, num_proc=1)"
   ]
  },
  {
   "cell_type": "code",
   "execution_count": 7,
   "id": "30ed554e",
   "metadata": {},
   "outputs": [],
   "source": [
    "import torch\n",
    "\n",
    "from dataclasses import dataclass, field\n",
    "from typing import Any, Dict, List, Optional, Union\n",
    "\n",
    "@dataclass\n",
    "class DataCollatorCTCWithPadding:\n",
    "    \"\"\"\n",
    "    Data collator that will dynamically pad the inputs received.\n",
    "    Args:\n",
    "        processor (:class:`~transformers.Wav2Vec2Processor`)\n",
    "            The processor used for proccessing the data.\n",
    "        padding (:obj:`bool`, :obj:`str` or :class:`~transformers.tokenization_utils_base.PaddingStrategy`, `optional`, defaults to :obj:`True`):\n",
    "            Select a strategy to pad the returned sequences (according to the model's padding side and padding index)\n",
    "            among:\n",
    "            * :obj:`True` or :obj:`'longest'`: Pad to the longest sequence in the batch (or no padding if only a single\n",
    "              sequence if provided).\n",
    "            * :obj:`'max_length'`: Pad to a maximum length specified with the argument :obj:`max_length` or to the\n",
    "              maximum acceptable input length for the model if that argument is not provided.\n",
    "            * :obj:`False` or :obj:`'do_not_pad'` (default): No padding (i.e., can output a batch with sequences of\n",
    "              different lengths).\n",
    "        max_length (:obj:`int`, `optional`):\n",
    "            Maximum length of the ``input_values`` of the returned list and optionally padding length (see above).\n",
    "        max_length_labels (:obj:`int`, `optional`):\n",
    "            Maximum length of the ``labels`` returned list and optionally padding length (see above).\n",
    "        pad_to_multiple_of (:obj:`int`, `optional`):\n",
    "            If set will pad the sequence to a multiple of the provided value.\n",
    "            This is especially useful to enable the use of Tensor Cores on NVIDIA hardware with compute capability >=\n",
    "            7.5 (Volta).\n",
    "    \"\"\"\n",
    "\n",
    "    processor: Wav2Vec2Processor\n",
    "    padding: Union[bool, str] = True\n",
    "    max_length: Optional[int] = None\n",
    "    max_length_labels: Optional[int] = None\n",
    "    pad_to_multiple_of: Optional[int] = None\n",
    "    pad_to_multiple_of_labels: Optional[int] = None\n",
    "\n",
    "    def __call__(self, features: List[Dict[str, Union[List[int], torch.Tensor]]]) -> Dict[str, torch.Tensor]:\n",
    "        # split inputs and labels since they have to be of different lenghts and need\n",
    "        # different padding methods\n",
    "        input_features = [{\"input_values\": feature[\"input_values\"]} for feature in features]\n",
    "        label_features = [{\"input_ids\": feature[\"labels\"]} for feature in features]\n",
    "\n",
    "        batch = self.processor.pad(\n",
    "            input_features,\n",
    "            padding=self.padding,\n",
    "            max_length=self.max_length,\n",
    "            pad_to_multiple_of=self.pad_to_multiple_of,\n",
    "            return_tensors=\"pt\",\n",
    "        )\n",
    "        with self.processor.as_target_processor():\n",
    "            labels_batch = self.processor.pad(\n",
    "                label_features,\n",
    "                padding=self.padding,\n",
    "                max_length=self.max_length_labels,\n",
    "                pad_to_multiple_of=self.pad_to_multiple_of_labels,\n",
    "                return_tensors=\"pt\",\n",
    "            )\n",
    "\n",
    "        # replace padding with -100 to ignore loss correctly\n",
    "        labels = labels_batch[\"input_ids\"].masked_fill(labels_batch.attention_mask.ne(1), -100)\n",
    "\n",
    "        batch[\"labels\"] = labels\n",
    "\n",
    "        return batch"
   ]
  },
  {
   "cell_type": "code",
   "execution_count": 8,
   "id": "41985125",
   "metadata": {},
   "outputs": [],
   "source": [
    "data_collator = DataCollatorCTCWithPadding(processor=processor, padding=True)"
   ]
  },
  {
   "cell_type": "code",
   "execution_count": 41,
   "id": "1236c478",
   "metadata": {},
   "outputs": [
    {
     "name": "stdout",
     "output_type": "stream",
     "text": [
      "Requirement already satisfied: jiwer in /home/toxa/anaconda3/lib/python3.9/site-packages (2.5.1)\n",
      "Requirement already satisfied: levenshtein==0.20.2 in /home/toxa/anaconda3/lib/python3.9/site-packages (from jiwer) (0.20.2)\n",
      "Requirement already satisfied: rapidfuzz<3.0.0,>=2.3.0 in /home/toxa/anaconda3/lib/python3.9/site-packages (from levenshtein==0.20.2->jiwer) (2.13.5)\n"
     ]
    }
   ],
   "source": [
    "! pip install jiwer"
   ]
  },
  {
   "cell_type": "code",
   "execution_count": 9,
   "id": "d42c6562",
   "metadata": {},
   "outputs": [
    {
     "name": "stderr",
     "output_type": "stream",
     "text": [
      "/tmp/ipykernel_5988/24688115.py:1: FutureWarning: load_metric is deprecated and will be removed in the next major version of datasets. Use 'evaluate.load' instead, from the new library 🤗 Evaluate: https://huggingface.co/docs/evaluate\n",
      "  wer_metric = load_metric(\"wer\")\n"
     ]
    },
    {
     "data": {
      "application/vnd.jupyter.widget-view+json": {
       "model_id": "87ca78923c4c4720a13bbb8d10393894",
       "version_major": 2,
       "version_minor": 0
      },
      "text/plain": [
       "Downloading builder script:   0%|          | 0.00/1.90k [00:00<?, ?B/s]"
      ]
     },
     "metadata": {},
     "output_type": "display_data"
    }
   ],
   "source": [
    "wer_metric = load_metric(\"wer\")"
   ]
  },
  {
   "cell_type": "code",
   "execution_count": 9,
   "id": "4963d8c9",
   "metadata": {},
   "outputs": [],
   "source": [
    "def compute_metrics(pred):\n",
    "    pred_logits = pred.predictions\n",
    "    pred_ids = np.argmax(pred_logits, axis=-1)\n",
    "\n",
    "    pred.label_ids[pred.label_ids == -100] = processor.tokenizer.pad_token_id\n",
    "\n",
    "    pred_str = processor.batch_decode(pred_ids)\n",
    "    # we do not want to group tokens when computing the metrics\n",
    "    label_str = processor.batch_decode(pred.label_ids, group_tokens=False)\n",
    "\n",
    "    wer = wer_metric.compute(predictions=pred_str, references=label_str)\n",
    "\n",
    "    return {\"wer\": wer}"
   ]
  },
  {
   "cell_type": "code",
   "execution_count": 10,
   "id": "adf99206",
   "metadata": {},
   "outputs": [],
   "source": [
    "from transformers import Wav2Vec2ForCTC\n",
    "\n",
    "model = Wav2Vec2ForCTC.from_pretrained(\n",
    "    \"model\", \n",
    "    attention_dropout=0.1,\n",
    "    hidden_dropout=0.1,\n",
    "    feat_proj_dropout=0.0,\n",
    "    mask_time_prob=0.05,\n",
    "    layerdrop=0.1,\n",
    "    ctc_loss_reduction=\"mean\", \n",
    "    pad_token_id=processor.tokenizer.pad_token_id,\n",
    "    vocab_size=len(processor.tokenizer)\n",
    ")"
   ]
  },
  {
   "cell_type": "code",
   "execution_count": 11,
   "id": "1b45cb10",
   "metadata": {},
   "outputs": [
    {
     "name": "stderr",
     "output_type": "stream",
     "text": [
      "/home/toxa/anaconda3/lib/python3.9/site-packages/transformers/models/wav2vec2/modeling_wav2vec2.py:1635: FutureWarning: The method `freeze_feature_extractor` is deprecated and will be removed in Transformers v5.Please use the equivalent `freeze_feature_encoder` method instead.\n",
      "  warnings.warn(\n"
     ]
    }
   ],
   "source": [
    "model.freeze_feature_extractor()"
   ]
  },
  {
   "cell_type": "code",
   "execution_count": 12,
   "id": "677dd703",
   "metadata": {},
   "outputs": [],
   "source": [
    "model.gradient_checkpointing_enable()"
   ]
  },
  {
   "cell_type": "markdown",
   "id": "3c1537d8",
   "metadata": {},
   "source": [
    "batch_size=20- загрузка 10гб первая карта"
   ]
  },
  {
   "cell_type": "code",
   "execution_count": 47,
   "id": "c1582654",
   "metadata": {},
   "outputs": [],
   "source": [
    "from transformers import TrainingArguments\n",
    "\n",
    "training_args = TrainingArguments(\n",
    "  # output_dir=\"/content/gdrive/MyDrive/wav2vec2-large-xlsr-turkish-demo\",\n",
    "  output_dir=\"./wav2vec2-basee-ru-demo\",\n",
    "  group_by_length=True,\n",
    "  per_gpu_train_batch_size=1,\n",
    "  gradient_accumulation_steps=16,\n",
    "  per_gpu_eval_batch_size=1,\n",
    "  evaluation_strategy=\"steps\",\n",
    "  num_train_epochs=300,\n",
    "  fp16=True,\n",
    "  save_steps=100,\n",
    "  eval_steps=100,\n",
    "  logging_steps=10,\n",
    "  learning_rate=3e-4,\n",
    "  warmup_steps=500,\n",
    "  save_total_limit=2,\n",
    ")"
   ]
  },
  {
   "cell_type": "code",
   "execution_count": 48,
   "id": "6a5baf4f",
   "metadata": {},
   "outputs": [
    {
     "name": "stderr",
     "output_type": "stream",
     "text": [
      "Using cuda_amp half precision backend\n",
      "Using deprecated `--per_gpu_train_batch_size` argument which will be removed in a future version. Using `--per_device_train_batch_size` is preferred.\n"
     ]
    }
   ],
   "source": [
    "from transformers import Trainer\n",
    "\n",
    "trainer = Trainer(\n",
    "    model=model,\n",
    "    data_collator=data_collator,\n",
    "    args=training_args,\n",
    "    compute_metrics=compute_metrics,\n",
    "    train_dataset=common_voice_train,\n",
    "    eval_dataset=common_voice_test,\n",
    "    tokenizer=processor.feature_extractor,\n",
    ")"
   ]
  },
  {
   "cell_type": "code",
   "execution_count": 48,
   "id": "4a08a98f",
   "metadata": {},
   "outputs": [
    {
     "name": "stderr",
     "output_type": "stream",
     "text": [
      "Using deprecated `--per_gpu_train_batch_size` argument which will be removed in a future version. Using `--per_device_train_batch_size` is preferred.\n",
      "Using deprecated `--per_gpu_train_batch_size` argument which will be removed in a future version. Using `--per_device_train_batch_size` is preferred.\n",
      "Using deprecated `--per_gpu_train_batch_size` argument which will be removed in a future version. Using `--per_device_train_batch_size` is preferred.\n",
      "/home/toxa/anaconda3/lib/python3.9/site-packages/transformers/optimization.py:306: FutureWarning: This implementation of AdamW is deprecated and will be removed in a future version. Use the PyTorch implementation torch.optim.AdamW instead, or set `no_deprecation_warning=True` to disable this warning\n",
      "  warnings.warn(\n",
      "***** Running training *****\n",
      "  Num examples = 23444\n",
      "  Num Epochs = 300\n",
      "  Instantaneous batch size per device = 8\n",
      "  Total train batch size (w. parallel, distributed & accumulation) = 16\n",
      "  Gradient Accumulation steps = 16\n",
      "  Total optimization steps = 439500\n",
      "  Number of trainable parameters = 90221249\n",
      "/home/toxa/anaconda3/lib/python3.9/site-packages/transformers/models/wav2vec2/processing_wav2vec2.py:155: UserWarning: `as_target_processor` is deprecated and will be removed in v5 of Transformers. You can process your labels by using the argument `text` of the regular `__call__` method (either in the same call as your audio inputs, or in a separate call.\n",
      "  warnings.warn(\n"
     ]
    },
    {
     "data": {
      "text/html": [
       "\n",
       "    <div>\n",
       "      \n",
       "      <progress value='1535' max='439500' style='width:300px; height:20px; vertical-align: middle;'></progress>\n",
       "      [  1535/439500 6:14:40 < 1784:01:42, 0.07 it/s, Epoch 1.05/300]\n",
       "    </div>\n",
       "    <table border=\"1\" class=\"dataframe\">\n",
       "  <thead>\n",
       " <tr style=\"text-align: left;\">\n",
       "      <th>Step</th>\n",
       "      <th>Training Loss</th>\n",
       "      <th>Validation Loss</th>\n",
       "      <th>Wer</th>\n",
       "    </tr>\n",
       "  </thead>\n",
       "  <tbody>\n",
       "    <tr>\n",
       "      <td>100</td>\n",
       "      <td>3.416800</td>\n",
       "      <td>3.444025</td>\n",
       "      <td>1.000000</td>\n",
       "    </tr>\n",
       "    <tr>\n",
       "      <td>200</td>\n",
       "      <td>1.764300</td>\n",
       "      <td>1.765358</td>\n",
       "      <td>1.083186</td>\n",
       "    </tr>\n",
       "    <tr>\n",
       "      <td>300</td>\n",
       "      <td>1.061000</td>\n",
       "      <td>0.886642</td>\n",
       "      <td>0.762733</td>\n",
       "    </tr>\n",
       "    <tr>\n",
       "      <td>400</td>\n",
       "      <td>0.669500</td>\n",
       "      <td>0.832617</td>\n",
       "      <td>0.678506</td>\n",
       "    </tr>\n",
       "    <tr>\n",
       "      <td>500</td>\n",
       "      <td>0.793400</td>\n",
       "      <td>0.744369</td>\n",
       "      <td>0.674305</td>\n",
       "    </tr>\n",
       "    <tr>\n",
       "      <td>600</td>\n",
       "      <td>0.745500</td>\n",
       "      <td>0.699986</td>\n",
       "      <td>0.687741</td>\n",
       "    </tr>\n",
       "    <tr>\n",
       "      <td>700</td>\n",
       "      <td>0.705600</td>\n",
       "      <td>0.730653</td>\n",
       "      <td>0.693990</td>\n",
       "    </tr>\n",
       "    <tr>\n",
       "      <td>800</td>\n",
       "      <td>0.715400</td>\n",
       "      <td>0.702865</td>\n",
       "      <td>0.657084</td>\n",
       "    </tr>\n",
       "    <tr>\n",
       "      <td>900</td>\n",
       "      <td>0.681200</td>\n",
       "      <td>0.789939</td>\n",
       "      <td>0.708225</td>\n",
       "    </tr>\n",
       "    <tr>\n",
       "      <td>1000</td>\n",
       "      <td>0.732200</td>\n",
       "      <td>0.624395</td>\n",
       "      <td>0.661945</td>\n",
       "    </tr>\n",
       "    <tr>\n",
       "      <td>1100</td>\n",
       "      <td>0.771900</td>\n",
       "      <td>0.694066</td>\n",
       "      <td>0.692844</td>\n",
       "    </tr>\n",
       "    <tr>\n",
       "      <td>1200</td>\n",
       "      <td>0.706200</td>\n",
       "      <td>0.702494</td>\n",
       "      <td>0.707044</td>\n",
       "    </tr>\n",
       "    <tr>\n",
       "      <td>1300</td>\n",
       "      <td>0.795900</td>\n",
       "      <td>0.629144</td>\n",
       "      <td>0.679304</td>\n",
       "    </tr>\n",
       "    <tr>\n",
       "      <td>1400</td>\n",
       "      <td>0.841500</td>\n",
       "      <td>0.636818</td>\n",
       "      <td>0.680485</td>\n",
       "    </tr>\n",
       "    <tr>\n",
       "      <td>1500</td>\n",
       "      <td>0.567400</td>\n",
       "      <td>0.605167</td>\n",
       "      <td>0.643995</td>\n",
       "    </tr>\n",
       "  </tbody>\n",
       "</table><p>"
      ],
      "text/plain": [
       "<IPython.core.display.HTML object>"
      ]
     },
     "metadata": {},
     "output_type": "display_data"
    },
    {
     "name": "stderr",
     "output_type": "stream",
     "text": [
      "Using deprecated `--per_gpu_eval_batch_size` argument which will be removed in a future version. Using `--per_device_eval_batch_size` is preferred.\n",
      "Using deprecated `--per_gpu_eval_batch_size` argument which will be removed in a future version. Using `--per_device_eval_batch_size` is preferred.\n",
      "***** Running Evaluation *****\n",
      "  Num examples = 3000\n",
      "  Batch size = 1\n",
      "Using deprecated `--per_gpu_eval_batch_size` argument which will be removed in a future version. Using `--per_device_eval_batch_size` is preferred.\n",
      "Saving model checkpoint to ./wav2vec2-basee-ru-demo/checkpoint-100\n",
      "Configuration saved in ./wav2vec2-basee-ru-demo/checkpoint-100/config.json\n",
      "Model weights saved in ./wav2vec2-basee-ru-demo/checkpoint-100/pytorch_model.bin\n",
      "Feature extractor saved in ./wav2vec2-basee-ru-demo/checkpoint-100/preprocessor_config.json\n",
      "/home/toxa/anaconda3/lib/python3.9/site-packages/transformers/models/wav2vec2/processing_wav2vec2.py:155: UserWarning: `as_target_processor` is deprecated and will be removed in v5 of Transformers. You can process your labels by using the argument `text` of the regular `__call__` method (either in the same call as your audio inputs, or in a separate call.\n",
      "  warnings.warn(\n",
      "Using deprecated `--per_gpu_eval_batch_size` argument which will be removed in a future version. Using `--per_device_eval_batch_size` is preferred.\n",
      "Using deprecated `--per_gpu_eval_batch_size` argument which will be removed in a future version. Using `--per_device_eval_batch_size` is preferred.\n",
      "***** Running Evaluation *****\n",
      "  Num examples = 3000\n",
      "  Batch size = 1\n",
      "Using deprecated `--per_gpu_eval_batch_size` argument which will be removed in a future version. Using `--per_device_eval_batch_size` is preferred.\n",
      "Saving model checkpoint to ./wav2vec2-basee-ru-demo/checkpoint-200\n",
      "Configuration saved in ./wav2vec2-basee-ru-demo/checkpoint-200/config.json\n",
      "Model weights saved in ./wav2vec2-basee-ru-demo/checkpoint-200/pytorch_model.bin\n",
      "Feature extractor saved in ./wav2vec2-basee-ru-demo/checkpoint-200/preprocessor_config.json\n",
      "/home/toxa/anaconda3/lib/python3.9/site-packages/transformers/models/wav2vec2/processing_wav2vec2.py:155: UserWarning: `as_target_processor` is deprecated and will be removed in v5 of Transformers. You can process your labels by using the argument `text` of the regular `__call__` method (either in the same call as your audio inputs, or in a separate call.\n",
      "  warnings.warn(\n",
      "Using deprecated `--per_gpu_eval_batch_size` argument which will be removed in a future version. Using `--per_device_eval_batch_size` is preferred.\n",
      "Using deprecated `--per_gpu_eval_batch_size` argument which will be removed in a future version. Using `--per_device_eval_batch_size` is preferred.\n",
      "***** Running Evaluation *****\n",
      "  Num examples = 3000\n",
      "  Batch size = 1\n",
      "Using deprecated `--per_gpu_eval_batch_size` argument which will be removed in a future version. Using `--per_device_eval_batch_size` is preferred.\n",
      "Saving model checkpoint to ./wav2vec2-basee-ru-demo/checkpoint-300\n",
      "Configuration saved in ./wav2vec2-basee-ru-demo/checkpoint-300/config.json\n",
      "Model weights saved in ./wav2vec2-basee-ru-demo/checkpoint-300/pytorch_model.bin\n",
      "Feature extractor saved in ./wav2vec2-basee-ru-demo/checkpoint-300/preprocessor_config.json\n",
      "Deleting older checkpoint [wav2vec2-basee-ru-demo/checkpoint-100] due to args.save_total_limit\n",
      "/home/toxa/anaconda3/lib/python3.9/site-packages/transformers/models/wav2vec2/processing_wav2vec2.py:155: UserWarning: `as_target_processor` is deprecated and will be removed in v5 of Transformers. You can process your labels by using the argument `text` of the regular `__call__` method (either in the same call as your audio inputs, or in a separate call.\n",
      "  warnings.warn(\n",
      "Using deprecated `--per_gpu_eval_batch_size` argument which will be removed in a future version. Using `--per_device_eval_batch_size` is preferred.\n",
      "Using deprecated `--per_gpu_eval_batch_size` argument which will be removed in a future version. Using `--per_device_eval_batch_size` is preferred.\n",
      "***** Running Evaluation *****\n",
      "  Num examples = 3000\n",
      "  Batch size = 1\n",
      "Using deprecated `--per_gpu_eval_batch_size` argument which will be removed in a future version. Using `--per_device_eval_batch_size` is preferred.\n",
      "Saving model checkpoint to ./wav2vec2-basee-ru-demo/checkpoint-400\n",
      "Configuration saved in ./wav2vec2-basee-ru-demo/checkpoint-400/config.json\n",
      "Model weights saved in ./wav2vec2-basee-ru-demo/checkpoint-400/pytorch_model.bin\n",
      "Feature extractor saved in ./wav2vec2-basee-ru-demo/checkpoint-400/preprocessor_config.json\n",
      "Deleting older checkpoint [wav2vec2-basee-ru-demo/checkpoint-200] due to args.save_total_limit\n",
      "/home/toxa/anaconda3/lib/python3.9/site-packages/transformers/models/wav2vec2/processing_wav2vec2.py:155: UserWarning: `as_target_processor` is deprecated and will be removed in v5 of Transformers. You can process your labels by using the argument `text` of the regular `__call__` method (either in the same call as your audio inputs, or in a separate call.\n",
      "  warnings.warn(\n",
      "Using deprecated `--per_gpu_eval_batch_size` argument which will be removed in a future version. Using `--per_device_eval_batch_size` is preferred.\n",
      "Using deprecated `--per_gpu_eval_batch_size` argument which will be removed in a future version. Using `--per_device_eval_batch_size` is preferred.\n",
      "***** Running Evaluation *****\n",
      "  Num examples = 3000\n",
      "  Batch size = 1\n",
      "Using deprecated `--per_gpu_eval_batch_size` argument which will be removed in a future version. Using `--per_device_eval_batch_size` is preferred.\n",
      "Saving model checkpoint to ./wav2vec2-basee-ru-demo/checkpoint-500\n",
      "Configuration saved in ./wav2vec2-basee-ru-demo/checkpoint-500/config.json\n",
      "Model weights saved in ./wav2vec2-basee-ru-demo/checkpoint-500/pytorch_model.bin\n",
      "Feature extractor saved in ./wav2vec2-basee-ru-demo/checkpoint-500/preprocessor_config.json\n",
      "Deleting older checkpoint [wav2vec2-basee-ru-demo/checkpoint-300] due to args.save_total_limit\n",
      "/home/toxa/anaconda3/lib/python3.9/site-packages/transformers/models/wav2vec2/processing_wav2vec2.py:155: UserWarning: `as_target_processor` is deprecated and will be removed in v5 of Transformers. You can process your labels by using the argument `text` of the regular `__call__` method (either in the same call as your audio inputs, or in a separate call.\n",
      "  warnings.warn(\n",
      "Using deprecated `--per_gpu_eval_batch_size` argument which will be removed in a future version. Using `--per_device_eval_batch_size` is preferred.\n",
      "Using deprecated `--per_gpu_eval_batch_size` argument which will be removed in a future version. Using `--per_device_eval_batch_size` is preferred.\n",
      "***** Running Evaluation *****\n",
      "  Num examples = 3000\n",
      "  Batch size = 1\n",
      "Using deprecated `--per_gpu_eval_batch_size` argument which will be removed in a future version. Using `--per_device_eval_batch_size` is preferred.\n",
      "Saving model checkpoint to ./wav2vec2-basee-ru-demo/checkpoint-600\n",
      "Configuration saved in ./wav2vec2-basee-ru-demo/checkpoint-600/config.json\n",
      "Model weights saved in ./wav2vec2-basee-ru-demo/checkpoint-600/pytorch_model.bin\n",
      "Feature extractor saved in ./wav2vec2-basee-ru-demo/checkpoint-600/preprocessor_config.json\n",
      "Deleting older checkpoint [wav2vec2-basee-ru-demo/checkpoint-400] due to args.save_total_limit\n",
      "/home/toxa/anaconda3/lib/python3.9/site-packages/transformers/models/wav2vec2/processing_wav2vec2.py:155: UserWarning: `as_target_processor` is deprecated and will be removed in v5 of Transformers. You can process your labels by using the argument `text` of the regular `__call__` method (either in the same call as your audio inputs, or in a separate call.\n",
      "  warnings.warn(\n",
      "Using deprecated `--per_gpu_eval_batch_size` argument which will be removed in a future version. Using `--per_device_eval_batch_size` is preferred.\n",
      "Using deprecated `--per_gpu_eval_batch_size` argument which will be removed in a future version. Using `--per_device_eval_batch_size` is preferred.\n",
      "***** Running Evaluation *****\n",
      "  Num examples = 3000\n",
      "  Batch size = 1\n",
      "Using deprecated `--per_gpu_eval_batch_size` argument which will be removed in a future version. Using `--per_device_eval_batch_size` is preferred.\n",
      "Saving model checkpoint to ./wav2vec2-basee-ru-demo/checkpoint-700\n",
      "Configuration saved in ./wav2vec2-basee-ru-demo/checkpoint-700/config.json\n"
     ]
    },
    {
     "name": "stderr",
     "output_type": "stream",
     "text": [
      "Model weights saved in ./wav2vec2-basee-ru-demo/checkpoint-700/pytorch_model.bin\n",
      "Feature extractor saved in ./wav2vec2-basee-ru-demo/checkpoint-700/preprocessor_config.json\n",
      "Deleting older checkpoint [wav2vec2-basee-ru-demo/checkpoint-500] due to args.save_total_limit\n",
      "/home/toxa/anaconda3/lib/python3.9/site-packages/transformers/models/wav2vec2/processing_wav2vec2.py:155: UserWarning: `as_target_processor` is deprecated and will be removed in v5 of Transformers. You can process your labels by using the argument `text` of the regular `__call__` method (either in the same call as your audio inputs, or in a separate call.\n",
      "  warnings.warn(\n",
      "Using deprecated `--per_gpu_eval_batch_size` argument which will be removed in a future version. Using `--per_device_eval_batch_size` is preferred.\n",
      "Using deprecated `--per_gpu_eval_batch_size` argument which will be removed in a future version. Using `--per_device_eval_batch_size` is preferred.\n",
      "***** Running Evaluation *****\n",
      "  Num examples = 3000\n",
      "  Batch size = 1\n",
      "Using deprecated `--per_gpu_eval_batch_size` argument which will be removed in a future version. Using `--per_device_eval_batch_size` is preferred.\n",
      "Saving model checkpoint to ./wav2vec2-basee-ru-demo/checkpoint-800\n",
      "Configuration saved in ./wav2vec2-basee-ru-demo/checkpoint-800/config.json\n",
      "Model weights saved in ./wav2vec2-basee-ru-demo/checkpoint-800/pytorch_model.bin\n",
      "Feature extractor saved in ./wav2vec2-basee-ru-demo/checkpoint-800/preprocessor_config.json\n",
      "Deleting older checkpoint [wav2vec2-basee-ru-demo/checkpoint-600] due to args.save_total_limit\n",
      "/home/toxa/anaconda3/lib/python3.9/site-packages/transformers/models/wav2vec2/processing_wav2vec2.py:155: UserWarning: `as_target_processor` is deprecated and will be removed in v5 of Transformers. You can process your labels by using the argument `text` of the regular `__call__` method (either in the same call as your audio inputs, or in a separate call.\n",
      "  warnings.warn(\n",
      "Using deprecated `--per_gpu_eval_batch_size` argument which will be removed in a future version. Using `--per_device_eval_batch_size` is preferred.\n",
      "Using deprecated `--per_gpu_eval_batch_size` argument which will be removed in a future version. Using `--per_device_eval_batch_size` is preferred.\n",
      "***** Running Evaluation *****\n",
      "  Num examples = 3000\n",
      "  Batch size = 1\n",
      "Using deprecated `--per_gpu_eval_batch_size` argument which will be removed in a future version. Using `--per_device_eval_batch_size` is preferred.\n",
      "Saving model checkpoint to ./wav2vec2-basee-ru-demo/checkpoint-900\n",
      "Configuration saved in ./wav2vec2-basee-ru-demo/checkpoint-900/config.json\n",
      "Model weights saved in ./wav2vec2-basee-ru-demo/checkpoint-900/pytorch_model.bin\n",
      "Feature extractor saved in ./wav2vec2-basee-ru-demo/checkpoint-900/preprocessor_config.json\n",
      "Deleting older checkpoint [wav2vec2-basee-ru-demo/checkpoint-700] due to args.save_total_limit\n",
      "/home/toxa/anaconda3/lib/python3.9/site-packages/transformers/models/wav2vec2/processing_wav2vec2.py:155: UserWarning: `as_target_processor` is deprecated and will be removed in v5 of Transformers. You can process your labels by using the argument `text` of the regular `__call__` method (either in the same call as your audio inputs, or in a separate call.\n",
      "  warnings.warn(\n",
      "Using deprecated `--per_gpu_eval_batch_size` argument which will be removed in a future version. Using `--per_device_eval_batch_size` is preferred.\n",
      "Using deprecated `--per_gpu_eval_batch_size` argument which will be removed in a future version. Using `--per_device_eval_batch_size` is preferred.\n",
      "***** Running Evaluation *****\n",
      "  Num examples = 3000\n",
      "  Batch size = 1\n",
      "Using deprecated `--per_gpu_eval_batch_size` argument which will be removed in a future version. Using `--per_device_eval_batch_size` is preferred.\n",
      "Saving model checkpoint to ./wav2vec2-basee-ru-demo/checkpoint-1000\n",
      "Configuration saved in ./wav2vec2-basee-ru-demo/checkpoint-1000/config.json\n",
      "Model weights saved in ./wav2vec2-basee-ru-demo/checkpoint-1000/pytorch_model.bin\n",
      "Feature extractor saved in ./wav2vec2-basee-ru-demo/checkpoint-1000/preprocessor_config.json\n",
      "Deleting older checkpoint [wav2vec2-basee-ru-demo/checkpoint-800] due to args.save_total_limit\n",
      "/home/toxa/anaconda3/lib/python3.9/site-packages/transformers/models/wav2vec2/processing_wav2vec2.py:155: UserWarning: `as_target_processor` is deprecated and will be removed in v5 of Transformers. You can process your labels by using the argument `text` of the regular `__call__` method (either in the same call as your audio inputs, or in a separate call.\n",
      "  warnings.warn(\n",
      "Using deprecated `--per_gpu_eval_batch_size` argument which will be removed in a future version. Using `--per_device_eval_batch_size` is preferred.\n",
      "Using deprecated `--per_gpu_eval_batch_size` argument which will be removed in a future version. Using `--per_device_eval_batch_size` is preferred.\n",
      "***** Running Evaluation *****\n",
      "  Num examples = 3000\n",
      "  Batch size = 1\n",
      "Using deprecated `--per_gpu_eval_batch_size` argument which will be removed in a future version. Using `--per_device_eval_batch_size` is preferred.\n",
      "Saving model checkpoint to ./wav2vec2-basee-ru-demo/checkpoint-1100\n",
      "Configuration saved in ./wav2vec2-basee-ru-demo/checkpoint-1100/config.json\n",
      "Model weights saved in ./wav2vec2-basee-ru-demo/checkpoint-1100/pytorch_model.bin\n",
      "Feature extractor saved in ./wav2vec2-basee-ru-demo/checkpoint-1100/preprocessor_config.json\n",
      "Deleting older checkpoint [wav2vec2-basee-ru-demo/checkpoint-900] due to args.save_total_limit\n",
      "/home/toxa/anaconda3/lib/python3.9/site-packages/transformers/models/wav2vec2/processing_wav2vec2.py:155: UserWarning: `as_target_processor` is deprecated and will be removed in v5 of Transformers. You can process your labels by using the argument `text` of the regular `__call__` method (either in the same call as your audio inputs, or in a separate call.\n",
      "  warnings.warn(\n",
      "Using deprecated `--per_gpu_eval_batch_size` argument which will be removed in a future version. Using `--per_device_eval_batch_size` is preferred.\n",
      "Using deprecated `--per_gpu_eval_batch_size` argument which will be removed in a future version. Using `--per_device_eval_batch_size` is preferred.\n",
      "***** Running Evaluation *****\n",
      "  Num examples = 3000\n",
      "  Batch size = 1\n",
      "Using deprecated `--per_gpu_eval_batch_size` argument which will be removed in a future version. Using `--per_device_eval_batch_size` is preferred.\n",
      "Saving model checkpoint to ./wav2vec2-basee-ru-demo/checkpoint-1200\n",
      "Configuration saved in ./wav2vec2-basee-ru-demo/checkpoint-1200/config.json\n",
      "Model weights saved in ./wav2vec2-basee-ru-demo/checkpoint-1200/pytorch_model.bin\n",
      "Feature extractor saved in ./wav2vec2-basee-ru-demo/checkpoint-1200/preprocessor_config.json\n",
      "Deleting older checkpoint [wav2vec2-basee-ru-demo/checkpoint-1000] due to args.save_total_limit\n",
      "/home/toxa/anaconda3/lib/python3.9/site-packages/transformers/models/wav2vec2/processing_wav2vec2.py:155: UserWarning: `as_target_processor` is deprecated and will be removed in v5 of Transformers. You can process your labels by using the argument `text` of the regular `__call__` method (either in the same call as your audio inputs, or in a separate call.\n",
      "  warnings.warn(\n",
      "Using deprecated `--per_gpu_eval_batch_size` argument which will be removed in a future version. Using `--per_device_eval_batch_size` is preferred.\n",
      "Using deprecated `--per_gpu_eval_batch_size` argument which will be removed in a future version. Using `--per_device_eval_batch_size` is preferred.\n",
      "***** Running Evaluation *****\n",
      "  Num examples = 3000\n",
      "  Batch size = 1\n",
      "Using deprecated `--per_gpu_eval_batch_size` argument which will be removed in a future version. Using `--per_device_eval_batch_size` is preferred.\n",
      "Saving model checkpoint to ./wav2vec2-basee-ru-demo/checkpoint-1300\n",
      "Configuration saved in ./wav2vec2-basee-ru-demo/checkpoint-1300/config.json\n",
      "Model weights saved in ./wav2vec2-basee-ru-demo/checkpoint-1300/pytorch_model.bin\n",
      "Feature extractor saved in ./wav2vec2-basee-ru-demo/checkpoint-1300/preprocessor_config.json\n",
      "Deleting older checkpoint [wav2vec2-basee-ru-demo/checkpoint-1100] due to args.save_total_limit\n",
      "/home/toxa/anaconda3/lib/python3.9/site-packages/transformers/models/wav2vec2/processing_wav2vec2.py:155: UserWarning: `as_target_processor` is deprecated and will be removed in v5 of Transformers. You can process your labels by using the argument `text` of the regular `__call__` method (either in the same call as your audio inputs, or in a separate call.\n",
      "  warnings.warn(\n"
     ]
    },
    {
     "name": "stderr",
     "output_type": "stream",
     "text": [
      "Using deprecated `--per_gpu_eval_batch_size` argument which will be removed in a future version. Using `--per_device_eval_batch_size` is preferred.\n",
      "Using deprecated `--per_gpu_eval_batch_size` argument which will be removed in a future version. Using `--per_device_eval_batch_size` is preferred.\n",
      "***** Running Evaluation *****\n",
      "  Num examples = 3000\n",
      "  Batch size = 1\n",
      "Using deprecated `--per_gpu_eval_batch_size` argument which will be removed in a future version. Using `--per_device_eval_batch_size` is preferred.\n",
      "Saving model checkpoint to ./wav2vec2-basee-ru-demo/checkpoint-1400\n",
      "Configuration saved in ./wav2vec2-basee-ru-demo/checkpoint-1400/config.json\n",
      "Model weights saved in ./wav2vec2-basee-ru-demo/checkpoint-1400/pytorch_model.bin\n",
      "Feature extractor saved in ./wav2vec2-basee-ru-demo/checkpoint-1400/preprocessor_config.json\n",
      "Deleting older checkpoint [wav2vec2-basee-ru-demo/checkpoint-1200] due to args.save_total_limit\n",
      "/home/toxa/anaconda3/lib/python3.9/site-packages/transformers/models/wav2vec2/processing_wav2vec2.py:155: UserWarning: `as_target_processor` is deprecated and will be removed in v5 of Transformers. You can process your labels by using the argument `text` of the regular `__call__` method (either in the same call as your audio inputs, or in a separate call.\n",
      "  warnings.warn(\n",
      "Using deprecated `--per_gpu_eval_batch_size` argument which will be removed in a future version. Using `--per_device_eval_batch_size` is preferred.\n",
      "Using deprecated `--per_gpu_eval_batch_size` argument which will be removed in a future version. Using `--per_device_eval_batch_size` is preferred.\n",
      "***** Running Evaluation *****\n",
      "  Num examples = 3000\n",
      "  Batch size = 1\n",
      "Using deprecated `--per_gpu_eval_batch_size` argument which will be removed in a future version. Using `--per_device_eval_batch_size` is preferred.\n",
      "Saving model checkpoint to ./wav2vec2-basee-ru-demo/checkpoint-1500\n",
      "Configuration saved in ./wav2vec2-basee-ru-demo/checkpoint-1500/config.json\n",
      "Model weights saved in ./wav2vec2-basee-ru-demo/checkpoint-1500/pytorch_model.bin\n",
      "Feature extractor saved in ./wav2vec2-basee-ru-demo/checkpoint-1500/preprocessor_config.json\n",
      "Deleting older checkpoint [wav2vec2-basee-ru-demo/checkpoint-1300] due to args.save_total_limit\n",
      "/home/toxa/anaconda3/lib/python3.9/site-packages/transformers/models/wav2vec2/processing_wav2vec2.py:155: UserWarning: `as_target_processor` is deprecated and will be removed in v5 of Transformers. You can process your labels by using the argument `text` of the regular `__call__` method (either in the same call as your audio inputs, or in a separate call.\n",
      "  warnings.warn(\n",
      "ERROR:root:Internal Python error in the inspect module.\n",
      "Below is the traceback from this internal error.\n",
      "\n"
     ]
    },
    {
     "name": "stdout",
     "output_type": "stream",
     "text": [
      "Traceback (most recent call last):\n",
      "  File \"/home/toxa/anaconda3/lib/python3.9/site-packages/IPython/core/interactiveshell.py\", line 3457, in run_code\n",
      "    exec(code_obj, self.user_global_ns, self.user_ns)\n",
      "  File \"/tmp/ipykernel_1284343/4032920361.py\", line 1, in <module>\n",
      "    trainer.train()\n",
      "  File \"/home/toxa/anaconda3/lib/python3.9/site-packages/transformers/trainer.py\", line 1527, in train\n",
      "    return inner_training_loop(\n",
      "  File \"/home/toxa/anaconda3/lib/python3.9/site-packages/transformers/trainer.py\", line 1775, in _inner_training_loop\n",
      "    tr_loss_step = self.training_step(model, inputs)\n",
      "  File \"/home/toxa/anaconda3/lib/python3.9/site-packages/transformers/trainer.py\", line 2533, in training_step\n",
      "    self.scaler.scale(loss).backward()\n",
      "  File \"/home/toxa/anaconda3/lib/python3.9/site-packages/torch/_tensor.py\", line 396, in backward\n",
      "    torch.autograd.backward(self, gradient, retain_graph, create_graph, inputs=inputs)\n",
      "  File \"/home/toxa/anaconda3/lib/python3.9/site-packages/torch/autograd/__init__.py\", line 173, in backward\n",
      "    Variable._execution_engine.run_backward(  # Calls into the C++ engine to run the backward pass\n",
      "KeyboardInterrupt\n",
      "\n",
      "During handling of the above exception, another exception occurred:\n",
      "\n",
      "Traceback (most recent call last):\n",
      "  File \"/home/toxa/anaconda3/lib/python3.9/site-packages/IPython/core/interactiveshell.py\", line 2077, in showtraceback\n",
      "    stb = value._render_traceback_()\n",
      "AttributeError: 'KeyboardInterrupt' object has no attribute '_render_traceback_'\n",
      "\n",
      "During handling of the above exception, another exception occurred:\n",
      "\n",
      "Traceback (most recent call last):\n",
      "  File \"/home/toxa/anaconda3/lib/python3.9/site-packages/IPython/core/ultratb.py\", line 1101, in get_records\n",
      "    return _fixed_getinnerframes(etb, number_of_lines_of_context, tb_offset)\n",
      "  File \"/home/toxa/anaconda3/lib/python3.9/site-packages/IPython/core/ultratb.py\", line 248, in wrapped\n",
      "    return f(*args, **kwargs)\n",
      "  File \"/home/toxa/anaconda3/lib/python3.9/site-packages/IPython/core/ultratb.py\", line 281, in _fixed_getinnerframes\n",
      "    records = fix_frame_records_filenames(inspect.getinnerframes(etb, context))\n",
      "  File \"/home/toxa/anaconda3/lib/python3.9/inspect.py\", line 1543, in getinnerframes\n",
      "    frameinfo = (tb.tb_frame,) + getframeinfo(tb, context)\n",
      "  File \"/home/toxa/anaconda3/lib/python3.9/inspect.py\", line 1501, in getframeinfo\n",
      "    filename = getsourcefile(frame) or getfile(frame)\n",
      "  File \"/home/toxa/anaconda3/lib/python3.9/inspect.py\", line 709, in getsourcefile\n",
      "    if getattr(getmodule(object, filename), '__loader__', None) is not None:\n",
      "  File \"/home/toxa/anaconda3/lib/python3.9/inspect.py\", line 745, in getmodule\n",
      "    for modname, module in sys.modules.copy().items():\n",
      "KeyboardInterrupt\n"
     ]
    },
    {
     "name": "stderr",
     "output_type": "stream",
     "text": [
      "ERROR:root:Internal Python error in the inspect module.\n",
      "Below is the traceback from this internal error.\n",
      "\n"
     ]
    },
    {
     "name": "stdout",
     "output_type": "stream",
     "text": [
      "Traceback (most recent call last):\n",
      "  File \"/home/toxa/anaconda3/lib/python3.9/site-packages/IPython/core/interactiveshell.py\", line 3457, in run_code\n",
      "    exec(code_obj, self.user_global_ns, self.user_ns)\n",
      "  File \"/tmp/ipykernel_1284343/4032920361.py\", line 1, in <module>\n",
      "    trainer.train()\n",
      "  File \"/home/toxa/anaconda3/lib/python3.9/site-packages/transformers/trainer.py\", line 1527, in train\n",
      "    return inner_training_loop(\n",
      "  File \"/home/toxa/anaconda3/lib/python3.9/site-packages/transformers/trainer.py\", line 1775, in _inner_training_loop\n",
      "    tr_loss_step = self.training_step(model, inputs)\n",
      "  File \"/home/toxa/anaconda3/lib/python3.9/site-packages/transformers/trainer.py\", line 2533, in training_step\n",
      "    self.scaler.scale(loss).backward()\n",
      "  File \"/home/toxa/anaconda3/lib/python3.9/site-packages/torch/_tensor.py\", line 396, in backward\n",
      "    torch.autograd.backward(self, gradient, retain_graph, create_graph, inputs=inputs)\n",
      "  File \"/home/toxa/anaconda3/lib/python3.9/site-packages/torch/autograd/__init__.py\", line 173, in backward\n",
      "    Variable._execution_engine.run_backward(  # Calls into the C++ engine to run the backward pass\n",
      "KeyboardInterrupt\n",
      "\n",
      "During handling of the above exception, another exception occurred:\n",
      "\n",
      "Traceback (most recent call last):\n",
      "  File \"/home/toxa/anaconda3/lib/python3.9/site-packages/IPython/core/interactiveshell.py\", line 2077, in showtraceback\n",
      "    stb = value._render_traceback_()\n",
      "AttributeError: 'KeyboardInterrupt' object has no attribute '_render_traceback_'\n",
      "\n",
      "During handling of the above exception, another exception occurred:\n",
      "\n",
      "Traceback (most recent call last):\n",
      "  File \"/home/toxa/anaconda3/lib/python3.9/site-packages/IPython/core/interactiveshell.py\", line 3377, in run_ast_nodes\n",
      "    if (await self.run_code(code, result,  async_=asy)):\n",
      "  File \"/home/toxa/anaconda3/lib/python3.9/site-packages/IPython/core/interactiveshell.py\", line 3474, in run_code\n",
      "    self.showtraceback(running_compiled_code=True)\n",
      "  File \"/home/toxa/anaconda3/lib/python3.9/site-packages/IPython/core/interactiveshell.py\", line 2079, in showtraceback\n",
      "    stb = self.InteractiveTB.structured_traceback(etype,\n",
      "  File \"/home/toxa/anaconda3/lib/python3.9/site-packages/IPython/core/ultratb.py\", line 1367, in structured_traceback\n",
      "    return FormattedTB.structured_traceback(\n",
      "  File \"/home/toxa/anaconda3/lib/python3.9/site-packages/IPython/core/ultratb.py\", line 1267, in structured_traceback\n",
      "    return VerboseTB.structured_traceback(\n",
      "  File \"/home/toxa/anaconda3/lib/python3.9/site-packages/IPython/core/ultratb.py\", line 1124, in structured_traceback\n",
      "    formatted_exception = self.format_exception_as_a_whole(etype, evalue, etb, number_of_lines_of_context,\n",
      "  File \"/home/toxa/anaconda3/lib/python3.9/site-packages/IPython/core/ultratb.py\", line 1082, in format_exception_as_a_whole\n",
      "    last_unique, recursion_repeat = find_recursion(orig_etype, evalue, records)\n",
      "  File \"/home/toxa/anaconda3/lib/python3.9/site-packages/IPython/core/ultratb.py\", line 382, in find_recursion\n",
      "    return len(records), 0\n",
      "TypeError: object of type 'NoneType' has no len()\n",
      "\n",
      "During handling of the above exception, another exception occurred:\n",
      "\n",
      "Traceback (most recent call last):\n",
      "  File \"/home/toxa/anaconda3/lib/python3.9/site-packages/IPython/core/interactiveshell.py\", line 2077, in showtraceback\n",
      "    stb = value._render_traceback_()\n",
      "AttributeError: 'TypeError' object has no attribute '_render_traceback_'\n",
      "\n",
      "During handling of the above exception, another exception occurred:\n",
      "\n",
      "Traceback (most recent call last):\n",
      "  File \"/home/toxa/anaconda3/lib/python3.9/site-packages/IPython/core/ultratb.py\", line 1101, in get_records\n",
      "    return _fixed_getinnerframes(etb, number_of_lines_of_context, tb_offset)\n",
      "  File \"/home/toxa/anaconda3/lib/python3.9/site-packages/IPython/core/ultratb.py\", line 248, in wrapped\n",
      "    return f(*args, **kwargs)\n",
      "  File \"/home/toxa/anaconda3/lib/python3.9/site-packages/IPython/core/ultratb.py\", line 281, in _fixed_getinnerframes\n",
      "    records = fix_frame_records_filenames(inspect.getinnerframes(etb, context))\n",
      "  File \"/home/toxa/anaconda3/lib/python3.9/inspect.py\", line 1543, in getinnerframes\n",
      "    frameinfo = (tb.tb_frame,) + getframeinfo(tb, context)\n",
      "  File \"/home/toxa/anaconda3/lib/python3.9/inspect.py\", line 1501, in getframeinfo\n",
      "    filename = getsourcefile(frame) or getfile(frame)\n",
      "  File \"/home/toxa/anaconda3/lib/python3.9/inspect.py\", line 709, in getsourcefile\n",
      "    if getattr(getmodule(object, filename), '__loader__', None) is not None:\n",
      "  File \"/home/toxa/anaconda3/lib/python3.9/inspect.py\", line 746, in getmodule\n",
      "    if ismodule(module) and hasattr(module, '__file__'):\n",
      "KeyboardInterrupt\n"
     ]
    },
    {
     "name": "stderr",
     "output_type": "stream",
     "text": [
      "\n",
      "KeyboardInterrupt\n",
      "\n"
     ]
    }
   ],
   "source": [
    "trainer.train()"
   ]
  },
  {
   "cell_type": "markdown",
   "id": "61599e9d",
   "metadata": {},
   "source": [
    "# тестим"
   ]
  },
  {
   "cell_type": "code",
   "execution_count": 11,
   "id": "29202900",
   "metadata": {},
   "outputs": [],
   "source": [
    "from transformers import Wav2Vec2ForCTC\n",
    "\n",
    "model = Wav2Vec2ForCTC.from_pretrained(\n",
    "    \"model\", \n",
    "    attention_dropout=0.1,\n",
    "    hidden_dropout=0.1,\n",
    "    feat_proj_dropout=0.0,\n",
    "    mask_time_prob=0.05,\n",
    "    layerdrop=0.1,\n",
    "    ctc_loss_reduction=\"mean\", \n",
    "    pad_token_id=processor.tokenizer.pad_token_id,\n",
    "    vocab_size=len(processor.tokenizer)\n",
    ")"
   ]
  },
  {
   "cell_type": "code",
   "execution_count": 12,
   "id": "71b39939",
   "metadata": {},
   "outputs": [
    {
     "data": {
      "application/vnd.jupyter.widget-view+json": {
       "model_id": "1fd34b544a9f4c1f9db34abe3b9070c7",
       "version_major": 2,
       "version_minor": 0
      },
      "text/plain": [
       "Downloading metadata:   0%|          | 0.00/1.71k [00:00<?, ?B/s]"
      ]
     },
     "metadata": {},
     "output_type": "display_data"
    },
    {
     "data": {
      "application/vnd.jupyter.widget-view+json": {
       "model_id": "ef8460a491e146afa43eb44cdd2aec86",
       "version_major": 2,
       "version_minor": 0
      },
      "text/plain": [
       "Downloading readme:   0%|          | 0.00/6.75k [00:00<?, ?B/s]"
      ]
     },
     "metadata": {},
     "output_type": "display_data"
    },
    {
     "name": "stderr",
     "output_type": "stream",
     "text": [
      "Using custom data configuration sberdevices_golos_10h_crowd-53c8b8379b590a4b\n"
     ]
    },
    {
     "name": "stdout",
     "output_type": "stream",
     "text": [
      "Downloading and preparing dataset sberdevices_golos_10h_crowd/None (download: 2.12 GiB, generated: 2.27 GiB, post-processed: Unknown size, total: 2.27 GiB) to /home/toxa/.cache/huggingface/datasets/bond005___parquet/sberdevices_golos_10h_crowd-53c8b8379b590a4b/0.0.0/2a3b91fbd88a2c90d1dbbb32b460cf621d31bd5b05b934492fdef7d8d6f236ec...\n"
     ]
    },
    {
     "data": {
      "application/vnd.jupyter.widget-view+json": {
       "model_id": "6fa5570227c743eab8dcd7c65f826dc9",
       "version_major": 2,
       "version_minor": 0
      },
      "text/plain": [
       "Downloading data files:   0%|          | 0/3 [00:00<?, ?it/s]"
      ]
     },
     "metadata": {},
     "output_type": "display_data"
    },
    {
     "data": {
      "application/vnd.jupyter.widget-view+json": {
       "model_id": "5f3408d76aca40f483ee60c7f31bf7c7",
       "version_major": 2,
       "version_minor": 0
      },
      "text/plain": [
       "Downloading data:   0%|          | 0.00/98.3M [00:00<?, ?B/s]"
      ]
     },
     "metadata": {},
     "output_type": "display_data"
    },
    {
     "data": {
      "application/vnd.jupyter.widget-view+json": {
       "model_id": "edb684998fca4d54ad69d9b2df5db91e",
       "version_major": 2,
       "version_minor": 0
      },
      "text/plain": [
       "Downloading data:   0%|          | 0.00/330M [00:00<?, ?B/s]"
      ]
     },
     "metadata": {},
     "output_type": "display_data"
    },
    {
     "data": {
      "application/vnd.jupyter.widget-view+json": {
       "model_id": "d068cb1d688a4987b5623f3afdc3ca4b",
       "version_major": 2,
       "version_minor": 0
      },
      "text/plain": [
       "Downloading data:   0%|          | 0.00/324M [00:00<?, ?B/s]"
      ]
     },
     "metadata": {},
     "output_type": "display_data"
    },
    {
     "data": {
      "application/vnd.jupyter.widget-view+json": {
       "model_id": "65a00cc080664b38819478ea6b2dedca",
       "version_major": 2,
       "version_minor": 0
      },
      "text/plain": [
       "Downloading data:   0%|          | 0.00/326M [00:00<?, ?B/s]"
      ]
     },
     "metadata": {},
     "output_type": "display_data"
    },
    {
     "data": {
      "application/vnd.jupyter.widget-view+json": {
       "model_id": "e4d4b35d5fcc43d7a88272bec003e21e",
       "version_major": 2,
       "version_minor": 0
      },
      "text/plain": [
       "Downloading data:   0%|          | 0.00/399M [00:00<?, ?B/s]"
      ]
     },
     "metadata": {},
     "output_type": "display_data"
    },
    {
     "data": {
      "application/vnd.jupyter.widget-view+json": {
       "model_id": "b2168c9394f543cd95e5b0579adfcd01",
       "version_major": 2,
       "version_minor": 0
      },
      "text/plain": [
       "Downloading data:   0%|          | 0.00/400M [00:00<?, ?B/s]"
      ]
     },
     "metadata": {},
     "output_type": "display_data"
    },
    {
     "data": {
      "application/vnd.jupyter.widget-view+json": {
       "model_id": "76022224be5b45298db4e2ab50e0e775",
       "version_major": 2,
       "version_minor": 0
      },
      "text/plain": [
       "Downloading data:   0%|          | 0.00/394M [00:00<?, ?B/s]"
      ]
     },
     "metadata": {},
     "output_type": "display_data"
    },
    {
     "name": "stdout",
     "output_type": "stream",
     "text": [
      "   "
     ]
    },
    {
     "data": {
      "application/vnd.jupyter.widget-view+json": {
       "model_id": "b967642132184c9c80b504f77f2460ad",
       "version_major": 2,
       "version_minor": 0
      },
      "text/plain": [
       "Extracting data files #0:   0%|          | 0/1 [00:00<?, ?obj/s]"
      ]
     },
     "metadata": {},
     "output_type": "display_data"
    },
    {
     "data": {
      "application/vnd.jupyter.widget-view+json": {
       "model_id": "117f350d478a4d29ae90c1f1ccf8c46c",
       "version_major": 2,
       "version_minor": 0
      },
      "text/plain": [
       "Extracting data files #2:   0%|          | 0/1 [00:00<?, ?obj/s]"
      ]
     },
     "metadata": {},
     "output_type": "display_data"
    },
    {
     "data": {
      "application/vnd.jupyter.widget-view+json": {
       "model_id": "72c11967fd894cbb97aea5b695346b4e",
       "version_major": 2,
       "version_minor": 0
      },
      "text/plain": [
       "Extracting data files #1:   0%|          | 0/1 [00:00<?, ?obj/s]"
      ]
     },
     "metadata": {},
     "output_type": "display_data"
    },
    {
     "data": {
      "application/vnd.jupyter.widget-view+json": {
       "model_id": "",
       "version_major": 2,
       "version_minor": 0
      },
      "text/plain": [
       "Generating validation split:   0%|          | 0/793 [00:00<?, ? examples/s]"
      ]
     },
     "metadata": {},
     "output_type": "display_data"
    },
    {
     "data": {
      "application/vnd.jupyter.widget-view+json": {
       "model_id": "",
       "version_major": 2,
       "version_minor": 0
      },
      "text/plain": [
       "Generating train split:   0%|          | 0/7993 [00:00<?, ? examples/s]"
      ]
     },
     "metadata": {},
     "output_type": "display_data"
    },
    {
     "data": {
      "application/vnd.jupyter.widget-view+json": {
       "model_id": "",
       "version_major": 2,
       "version_minor": 0
      },
      "text/plain": [
       "Generating test split:   0%|          | 0/9994 [00:00<?, ? examples/s]"
      ]
     },
     "metadata": {},
     "output_type": "display_data"
    },
    {
     "name": "stdout",
     "output_type": "stream",
     "text": [
      "Dataset parquet downloaded and prepared to /home/toxa/.cache/huggingface/datasets/bond005___parquet/sberdevices_golos_10h_crowd-53c8b8379b590a4b/0.0.0/2a3b91fbd88a2c90d1dbbb32b460cf621d31bd5b05b934492fdef7d8d6f236ec. Subsequent calls will reuse this data.\n"
     ]
    }
   ],
   "source": [
    "data_test = load_dataset(\"bond005/sberdevices_golos_10h_crowd\", split=\"test\")"
   ]
  },
  {
   "cell_type": "code",
   "execution_count": 13,
   "id": "cab5d194",
   "metadata": {},
   "outputs": [
    {
     "data": {
      "text/plain": [
       "{'audio': {'path': None,\n",
       "  'array': array([ 0.        ,  0.        ,  0.        , ...,  0.0012207 ,\n",
       "          0.00057983, -0.00082397]),\n",
       "  'sampling_rate': 16000},\n",
       " 'transcription': 'шестьдесят тысяч тенге сколько будет стоить'}"
      ]
     },
     "execution_count": 13,
     "metadata": {},
     "output_type": "execute_result"
    }
   ],
   "source": [
    "data_test[0]"
   ]
  },
  {
   "cell_type": "code",
   "execution_count": 14,
   "id": "ccacc994",
   "metadata": {},
   "outputs": [
    {
     "data": {
      "application/vnd.jupyter.widget-view+json": {
       "model_id": "fa51ef015dd24ae3b78e09044ed13200",
       "version_major": 2,
       "version_minor": 0
      },
      "text/plain": [
       "  0%|          | 0/9994 [00:00<?, ?ex/s]"
      ]
     },
     "metadata": {},
     "output_type": "display_data"
    }
   ],
   "source": [
    "import re\n",
    "chars_to_ignore_regex = '[\\,\\?\\.\\!\\-\\;\\:\\\"\\“\\%\\‘\\”\\�\\|]'\n",
    "import torchaudio\n",
    "resampler = torchaudio.transforms.Resample(16_000, 16_000)\n",
    "\n",
    "# Preprocessing the datasets.\n",
    "# We need to read the aduio files as arrays\n",
    "def speech_file_to_array_fn(batch):\n",
    "    if batch[\"transcription\"] is None:\n",
    "        batch[\"transcription\"] = ' '\n",
    "    batch[\"sentence\"] = re.sub(chars_to_ignore_regex, '', batch[\"transcription\"]).lower()\n",
    "    speech_array = batch['audio']['array']\n",
    "    batch[\"speech\"] = resampler(speech_array).squeeze()\n",
    "    return batch\n",
    "data_test = data_test.map(speech_file_to_array_fn)"
   ]
  },
  {
   "cell_type": "code",
   "execution_count": 15,
   "id": "83ef9457",
   "metadata": {},
   "outputs": [
    {
     "data": {
      "text/plain": [
       "Wav2Vec2ForCTC(\n",
       "  (wav2vec2): Wav2Vec2Model(\n",
       "    (feature_extractor): Wav2Vec2FeatureEncoder(\n",
       "      (conv_layers): ModuleList(\n",
       "        (0): Wav2Vec2GroupNormConvLayer(\n",
       "          (conv): Conv1d(1, 512, kernel_size=(10,), stride=(5,), bias=False)\n",
       "          (activation): GELUActivation()\n",
       "          (layer_norm): GroupNorm(512, 512, eps=1e-05, affine=True)\n",
       "        )\n",
       "        (1): Wav2Vec2NoLayerNormConvLayer(\n",
       "          (conv): Conv1d(512, 512, kernel_size=(3,), stride=(2,), bias=False)\n",
       "          (activation): GELUActivation()\n",
       "        )\n",
       "        (2): Wav2Vec2NoLayerNormConvLayer(\n",
       "          (conv): Conv1d(512, 512, kernel_size=(3,), stride=(2,), bias=False)\n",
       "          (activation): GELUActivation()\n",
       "        )\n",
       "        (3): Wav2Vec2NoLayerNormConvLayer(\n",
       "          (conv): Conv1d(512, 512, kernel_size=(3,), stride=(2,), bias=False)\n",
       "          (activation): GELUActivation()\n",
       "        )\n",
       "        (4): Wav2Vec2NoLayerNormConvLayer(\n",
       "          (conv): Conv1d(512, 512, kernel_size=(3,), stride=(2,), bias=False)\n",
       "          (activation): GELUActivation()\n",
       "        )\n",
       "        (5): Wav2Vec2NoLayerNormConvLayer(\n",
       "          (conv): Conv1d(512, 512, kernel_size=(2,), stride=(2,), bias=False)\n",
       "          (activation): GELUActivation()\n",
       "        )\n",
       "        (6): Wav2Vec2NoLayerNormConvLayer(\n",
       "          (conv): Conv1d(512, 512, kernel_size=(2,), stride=(2,), bias=False)\n",
       "          (activation): GELUActivation()\n",
       "        )\n",
       "      )\n",
       "    )\n",
       "    (feature_projection): Wav2Vec2FeatureProjection(\n",
       "      (layer_norm): LayerNorm((512,), eps=1e-05, elementwise_affine=True)\n",
       "      (projection): Linear(in_features=512, out_features=768, bias=True)\n",
       "      (dropout): Dropout(p=0.0, inplace=False)\n",
       "    )\n",
       "    (encoder): Wav2Vec2Encoder(\n",
       "      (pos_conv_embed): Wav2Vec2PositionalConvEmbedding(\n",
       "        (conv): Conv1d(768, 768, kernel_size=(128,), stride=(1,), padding=(64,), groups=16)\n",
       "        (padding): Wav2Vec2SamePadLayer()\n",
       "        (activation): GELUActivation()\n",
       "      )\n",
       "      (layer_norm): LayerNorm((768,), eps=1e-05, elementwise_affine=True)\n",
       "      (dropout): Dropout(p=0.1, inplace=False)\n",
       "      (layers): ModuleList(\n",
       "        (0): Wav2Vec2EncoderLayer(\n",
       "          (attention): Wav2Vec2Attention(\n",
       "            (k_proj): Linear(in_features=768, out_features=768, bias=True)\n",
       "            (v_proj): Linear(in_features=768, out_features=768, bias=True)\n",
       "            (q_proj): Linear(in_features=768, out_features=768, bias=True)\n",
       "            (out_proj): Linear(in_features=768, out_features=768, bias=True)\n",
       "          )\n",
       "          (dropout): Dropout(p=0.1, inplace=False)\n",
       "          (layer_norm): LayerNorm((768,), eps=1e-05, elementwise_affine=True)\n",
       "          (feed_forward): Wav2Vec2FeedForward(\n",
       "            (intermediate_dropout): Dropout(p=0.1, inplace=False)\n",
       "            (intermediate_dense): Linear(in_features=768, out_features=3072, bias=True)\n",
       "            (intermediate_act_fn): GELUActivation()\n",
       "            (output_dense): Linear(in_features=3072, out_features=768, bias=True)\n",
       "            (output_dropout): Dropout(p=0.1, inplace=False)\n",
       "          )\n",
       "          (final_layer_norm): LayerNorm((768,), eps=1e-05, elementwise_affine=True)\n",
       "        )\n",
       "        (1): Wav2Vec2EncoderLayer(\n",
       "          (attention): Wav2Vec2Attention(\n",
       "            (k_proj): Linear(in_features=768, out_features=768, bias=True)\n",
       "            (v_proj): Linear(in_features=768, out_features=768, bias=True)\n",
       "            (q_proj): Linear(in_features=768, out_features=768, bias=True)\n",
       "            (out_proj): Linear(in_features=768, out_features=768, bias=True)\n",
       "          )\n",
       "          (dropout): Dropout(p=0.1, inplace=False)\n",
       "          (layer_norm): LayerNorm((768,), eps=1e-05, elementwise_affine=True)\n",
       "          (feed_forward): Wav2Vec2FeedForward(\n",
       "            (intermediate_dropout): Dropout(p=0.1, inplace=False)\n",
       "            (intermediate_dense): Linear(in_features=768, out_features=3072, bias=True)\n",
       "            (intermediate_act_fn): GELUActivation()\n",
       "            (output_dense): Linear(in_features=3072, out_features=768, bias=True)\n",
       "            (output_dropout): Dropout(p=0.1, inplace=False)\n",
       "          )\n",
       "          (final_layer_norm): LayerNorm((768,), eps=1e-05, elementwise_affine=True)\n",
       "        )\n",
       "        (2): Wav2Vec2EncoderLayer(\n",
       "          (attention): Wav2Vec2Attention(\n",
       "            (k_proj): Linear(in_features=768, out_features=768, bias=True)\n",
       "            (v_proj): Linear(in_features=768, out_features=768, bias=True)\n",
       "            (q_proj): Linear(in_features=768, out_features=768, bias=True)\n",
       "            (out_proj): Linear(in_features=768, out_features=768, bias=True)\n",
       "          )\n",
       "          (dropout): Dropout(p=0.1, inplace=False)\n",
       "          (layer_norm): LayerNorm((768,), eps=1e-05, elementwise_affine=True)\n",
       "          (feed_forward): Wav2Vec2FeedForward(\n",
       "            (intermediate_dropout): Dropout(p=0.1, inplace=False)\n",
       "            (intermediate_dense): Linear(in_features=768, out_features=3072, bias=True)\n",
       "            (intermediate_act_fn): GELUActivation()\n",
       "            (output_dense): Linear(in_features=3072, out_features=768, bias=True)\n",
       "            (output_dropout): Dropout(p=0.1, inplace=False)\n",
       "          )\n",
       "          (final_layer_norm): LayerNorm((768,), eps=1e-05, elementwise_affine=True)\n",
       "        )\n",
       "        (3): Wav2Vec2EncoderLayer(\n",
       "          (attention): Wav2Vec2Attention(\n",
       "            (k_proj): Linear(in_features=768, out_features=768, bias=True)\n",
       "            (v_proj): Linear(in_features=768, out_features=768, bias=True)\n",
       "            (q_proj): Linear(in_features=768, out_features=768, bias=True)\n",
       "            (out_proj): Linear(in_features=768, out_features=768, bias=True)\n",
       "          )\n",
       "          (dropout): Dropout(p=0.1, inplace=False)\n",
       "          (layer_norm): LayerNorm((768,), eps=1e-05, elementwise_affine=True)\n",
       "          (feed_forward): Wav2Vec2FeedForward(\n",
       "            (intermediate_dropout): Dropout(p=0.1, inplace=False)\n",
       "            (intermediate_dense): Linear(in_features=768, out_features=3072, bias=True)\n",
       "            (intermediate_act_fn): GELUActivation()\n",
       "            (output_dense): Linear(in_features=3072, out_features=768, bias=True)\n",
       "            (output_dropout): Dropout(p=0.1, inplace=False)\n",
       "          )\n",
       "          (final_layer_norm): LayerNorm((768,), eps=1e-05, elementwise_affine=True)\n",
       "        )\n",
       "        (4): Wav2Vec2EncoderLayer(\n",
       "          (attention): Wav2Vec2Attention(\n",
       "            (k_proj): Linear(in_features=768, out_features=768, bias=True)\n",
       "            (v_proj): Linear(in_features=768, out_features=768, bias=True)\n",
       "            (q_proj): Linear(in_features=768, out_features=768, bias=True)\n",
       "            (out_proj): Linear(in_features=768, out_features=768, bias=True)\n",
       "          )\n",
       "          (dropout): Dropout(p=0.1, inplace=False)\n",
       "          (layer_norm): LayerNorm((768,), eps=1e-05, elementwise_affine=True)\n",
       "          (feed_forward): Wav2Vec2FeedForward(\n",
       "            (intermediate_dropout): Dropout(p=0.1, inplace=False)\n",
       "            (intermediate_dense): Linear(in_features=768, out_features=3072, bias=True)\n",
       "            (intermediate_act_fn): GELUActivation()\n",
       "            (output_dense): Linear(in_features=3072, out_features=768, bias=True)\n",
       "            (output_dropout): Dropout(p=0.1, inplace=False)\n",
       "          )\n",
       "          (final_layer_norm): LayerNorm((768,), eps=1e-05, elementwise_affine=True)\n",
       "        )\n",
       "        (5): Wav2Vec2EncoderLayer(\n",
       "          (attention): Wav2Vec2Attention(\n",
       "            (k_proj): Linear(in_features=768, out_features=768, bias=True)\n",
       "            (v_proj): Linear(in_features=768, out_features=768, bias=True)\n",
       "            (q_proj): Linear(in_features=768, out_features=768, bias=True)\n",
       "            (out_proj): Linear(in_features=768, out_features=768, bias=True)\n",
       "          )\n",
       "          (dropout): Dropout(p=0.1, inplace=False)\n",
       "          (layer_norm): LayerNorm((768,), eps=1e-05, elementwise_affine=True)\n",
       "          (feed_forward): Wav2Vec2FeedForward(\n",
       "            (intermediate_dropout): Dropout(p=0.1, inplace=False)\n",
       "            (intermediate_dense): Linear(in_features=768, out_features=3072, bias=True)\n",
       "            (intermediate_act_fn): GELUActivation()\n",
       "            (output_dense): Linear(in_features=3072, out_features=768, bias=True)\n",
       "            (output_dropout): Dropout(p=0.1, inplace=False)\n",
       "          )\n",
       "          (final_layer_norm): LayerNorm((768,), eps=1e-05, elementwise_affine=True)\n",
       "        )\n",
       "        (6): Wav2Vec2EncoderLayer(\n",
       "          (attention): Wav2Vec2Attention(\n",
       "            (k_proj): Linear(in_features=768, out_features=768, bias=True)\n",
       "            (v_proj): Linear(in_features=768, out_features=768, bias=True)\n",
       "            (q_proj): Linear(in_features=768, out_features=768, bias=True)\n",
       "            (out_proj): Linear(in_features=768, out_features=768, bias=True)\n",
       "          )\n",
       "          (dropout): Dropout(p=0.1, inplace=False)\n",
       "          (layer_norm): LayerNorm((768,), eps=1e-05, elementwise_affine=True)\n",
       "          (feed_forward): Wav2Vec2FeedForward(\n",
       "            (intermediate_dropout): Dropout(p=0.1, inplace=False)\n",
       "            (intermediate_dense): Linear(in_features=768, out_features=3072, bias=True)\n",
       "            (intermediate_act_fn): GELUActivation()\n",
       "            (output_dense): Linear(in_features=3072, out_features=768, bias=True)\n",
       "            (output_dropout): Dropout(p=0.1, inplace=False)\n",
       "          )\n",
       "          (final_layer_norm): LayerNorm((768,), eps=1e-05, elementwise_affine=True)\n",
       "        )\n",
       "        (7): Wav2Vec2EncoderLayer(\n",
       "          (attention): Wav2Vec2Attention(\n",
       "            (k_proj): Linear(in_features=768, out_features=768, bias=True)\n",
       "            (v_proj): Linear(in_features=768, out_features=768, bias=True)\n",
       "            (q_proj): Linear(in_features=768, out_features=768, bias=True)\n",
       "            (out_proj): Linear(in_features=768, out_features=768, bias=True)\n",
       "          )\n",
       "          (dropout): Dropout(p=0.1, inplace=False)\n",
       "          (layer_norm): LayerNorm((768,), eps=1e-05, elementwise_affine=True)\n",
       "          (feed_forward): Wav2Vec2FeedForward(\n",
       "            (intermediate_dropout): Dropout(p=0.1, inplace=False)\n",
       "            (intermediate_dense): Linear(in_features=768, out_features=3072, bias=True)\n",
       "            (intermediate_act_fn): GELUActivation()\n",
       "            (output_dense): Linear(in_features=3072, out_features=768, bias=True)\n",
       "            (output_dropout): Dropout(p=0.1, inplace=False)\n",
       "          )\n",
       "          (final_layer_norm): LayerNorm((768,), eps=1e-05, elementwise_affine=True)\n",
       "        )\n",
       "        (8): Wav2Vec2EncoderLayer(\n",
       "          (attention): Wav2Vec2Attention(\n",
       "            (k_proj): Linear(in_features=768, out_features=768, bias=True)\n",
       "            (v_proj): Linear(in_features=768, out_features=768, bias=True)\n",
       "            (q_proj): Linear(in_features=768, out_features=768, bias=True)\n",
       "            (out_proj): Linear(in_features=768, out_features=768, bias=True)\n",
       "          )\n",
       "          (dropout): Dropout(p=0.1, inplace=False)\n",
       "          (layer_norm): LayerNorm((768,), eps=1e-05, elementwise_affine=True)\n",
       "          (feed_forward): Wav2Vec2FeedForward(\n",
       "            (intermediate_dropout): Dropout(p=0.1, inplace=False)\n",
       "            (intermediate_dense): Linear(in_features=768, out_features=3072, bias=True)\n",
       "            (intermediate_act_fn): GELUActivation()\n",
       "            (output_dense): Linear(in_features=3072, out_features=768, bias=True)\n",
       "            (output_dropout): Dropout(p=0.1, inplace=False)\n",
       "          )\n",
       "          (final_layer_norm): LayerNorm((768,), eps=1e-05, elementwise_affine=True)\n",
       "        )\n",
       "        (9): Wav2Vec2EncoderLayer(\n",
       "          (attention): Wav2Vec2Attention(\n",
       "            (k_proj): Linear(in_features=768, out_features=768, bias=True)\n",
       "            (v_proj): Linear(in_features=768, out_features=768, bias=True)\n",
       "            (q_proj): Linear(in_features=768, out_features=768, bias=True)\n",
       "            (out_proj): Linear(in_features=768, out_features=768, bias=True)\n",
       "          )\n",
       "          (dropout): Dropout(p=0.1, inplace=False)\n",
       "          (layer_norm): LayerNorm((768,), eps=1e-05, elementwise_affine=True)\n",
       "          (feed_forward): Wav2Vec2FeedForward(\n",
       "            (intermediate_dropout): Dropout(p=0.1, inplace=False)\n",
       "            (intermediate_dense): Linear(in_features=768, out_features=3072, bias=True)\n",
       "            (intermediate_act_fn): GELUActivation()\n",
       "            (output_dense): Linear(in_features=3072, out_features=768, bias=True)\n",
       "            (output_dropout): Dropout(p=0.1, inplace=False)\n",
       "          )\n",
       "          (final_layer_norm): LayerNorm((768,), eps=1e-05, elementwise_affine=True)\n",
       "        )\n",
       "        (10): Wav2Vec2EncoderLayer(\n",
       "          (attention): Wav2Vec2Attention(\n",
       "            (k_proj): Linear(in_features=768, out_features=768, bias=True)\n",
       "            (v_proj): Linear(in_features=768, out_features=768, bias=True)\n",
       "            (q_proj): Linear(in_features=768, out_features=768, bias=True)\n",
       "            (out_proj): Linear(in_features=768, out_features=768, bias=True)\n",
       "          )\n",
       "          (dropout): Dropout(p=0.1, inplace=False)\n",
       "          (layer_norm): LayerNorm((768,), eps=1e-05, elementwise_affine=True)\n",
       "          (feed_forward): Wav2Vec2FeedForward(\n",
       "            (intermediate_dropout): Dropout(p=0.1, inplace=False)\n",
       "            (intermediate_dense): Linear(in_features=768, out_features=3072, bias=True)\n",
       "            (intermediate_act_fn): GELUActivation()\n",
       "            (output_dense): Linear(in_features=3072, out_features=768, bias=True)\n",
       "            (output_dropout): Dropout(p=0.1, inplace=False)\n",
       "          )\n",
       "          (final_layer_norm): LayerNorm((768,), eps=1e-05, elementwise_affine=True)\n",
       "        )\n",
       "        (11): Wav2Vec2EncoderLayer(\n",
       "          (attention): Wav2Vec2Attention(\n",
       "            (k_proj): Linear(in_features=768, out_features=768, bias=True)\n",
       "            (v_proj): Linear(in_features=768, out_features=768, bias=True)\n",
       "            (q_proj): Linear(in_features=768, out_features=768, bias=True)\n",
       "            (out_proj): Linear(in_features=768, out_features=768, bias=True)\n",
       "          )\n",
       "          (dropout): Dropout(p=0.1, inplace=False)\n",
       "          (layer_norm): LayerNorm((768,), eps=1e-05, elementwise_affine=True)\n",
       "          (feed_forward): Wav2Vec2FeedForward(\n",
       "            (intermediate_dropout): Dropout(p=0.1, inplace=False)\n",
       "            (intermediate_dense): Linear(in_features=768, out_features=3072, bias=True)\n",
       "            (intermediate_act_fn): GELUActivation()\n",
       "            (output_dense): Linear(in_features=3072, out_features=768, bias=True)\n",
       "            (output_dropout): Dropout(p=0.1, inplace=False)\n",
       "          )\n",
       "          (final_layer_norm): LayerNorm((768,), eps=1e-05, elementwise_affine=True)\n",
       "        )\n",
       "      )\n",
       "    )\n",
       "  )\n",
       "  (dropout): Dropout(p=0.1, inplace=False)\n",
       "  (lm_head): Linear(in_features=768, out_features=65, bias=True)\n",
       ")"
      ]
     },
     "execution_count": 15,
     "metadata": {},
     "output_type": "execute_result"
    }
   ],
   "source": [
    "model.to('cuda')"
   ]
  },
  {
   "cell_type": "code",
   "execution_count": 16,
   "id": "9674a20f",
   "metadata": {},
   "outputs": [
    {
     "data": {
      "application/vnd.jupyter.widget-view+json": {
       "model_id": "f3c2f92fdec34f158821a3f69df07d20",
       "version_major": 2,
       "version_minor": 0
      },
      "text/plain": [
       "  0%|          | 0/9994 [00:00<?, ?ba/s]"
      ]
     },
     "metadata": {},
     "output_type": "display_data"
    },
    {
     "ename": "ValueError",
     "evalue": "truth should be a list of list of strings after transform which are non-empty",
     "output_type": "error",
     "traceback": [
      "\u001b[0;31m---------------------------------------------------------------------------\u001b[0m",
      "\u001b[0;31mValueError\u001b[0m                                Traceback (most recent call last)",
      "\u001b[0;32m/tmp/ipykernel_5988/3388835282.py\u001b[0m in \u001b[0;36m<module>\u001b[0;34m\u001b[0m\n\u001b[1;32m     10\u001b[0m \u001b[0;34m\u001b[0m\u001b[0m\n\u001b[1;32m     11\u001b[0m \u001b[0mresult\u001b[0m \u001b[0;34m=\u001b[0m \u001b[0mdata_test\u001b[0m\u001b[0;34m.\u001b[0m\u001b[0mmap\u001b[0m\u001b[0;34m(\u001b[0m\u001b[0mevaluate\u001b[0m\u001b[0;34m,\u001b[0m \u001b[0mbatched\u001b[0m\u001b[0;34m=\u001b[0m\u001b[0;32mTrue\u001b[0m\u001b[0;34m,\u001b[0m \u001b[0mbatch_size\u001b[0m\u001b[0;34m=\u001b[0m\u001b[0;36m1\u001b[0m\u001b[0;34m)\u001b[0m\u001b[0;34m\u001b[0m\u001b[0;34m\u001b[0m\u001b[0m\n\u001b[0;32m---> 12\u001b[0;31m \u001b[0mprint\u001b[0m\u001b[0;34m(\u001b[0m\u001b[0;34m\"WER: {:2f}\"\u001b[0m\u001b[0;34m.\u001b[0m\u001b[0mformat\u001b[0m\u001b[0;34m(\u001b[0m\u001b[0;36m100\u001b[0m \u001b[0;34m*\u001b[0m \u001b[0mwer_metric\u001b[0m\u001b[0;34m.\u001b[0m\u001b[0mcompute\u001b[0m\u001b[0;34m(\u001b[0m\u001b[0mpredictions\u001b[0m\u001b[0;34m=\u001b[0m\u001b[0mresult\u001b[0m\u001b[0;34m[\u001b[0m\u001b[0;34m\"pred_strings\"\u001b[0m\u001b[0;34m]\u001b[0m\u001b[0;34m,\u001b[0m \u001b[0mreferences\u001b[0m\u001b[0;34m=\u001b[0m\u001b[0mresult\u001b[0m\u001b[0;34m[\u001b[0m\u001b[0;34m\"sentence\"\u001b[0m\u001b[0;34m]\u001b[0m\u001b[0;34m)\u001b[0m\u001b[0;34m)\u001b[0m\u001b[0;34m)\u001b[0m\u001b[0;34m\u001b[0m\u001b[0;34m\u001b[0m\u001b[0m\n\u001b[0m",
      "\u001b[0;32m~/anaconda3/lib/python3.9/site-packages/datasets/metric.py\u001b[0m in \u001b[0;36mcompute\u001b[0;34m(self, predictions, references, **kwargs)\u001b[0m\n\u001b[1;32m    451\u001b[0m             \u001b[0minputs\u001b[0m \u001b[0;34m=\u001b[0m \u001b[0;34m{\u001b[0m\u001b[0minput_name\u001b[0m\u001b[0;34m:\u001b[0m \u001b[0mself\u001b[0m\u001b[0;34m.\u001b[0m\u001b[0mdata\u001b[0m\u001b[0;34m[\u001b[0m\u001b[0minput_name\u001b[0m\u001b[0;34m]\u001b[0m \u001b[0;32mfor\u001b[0m \u001b[0minput_name\u001b[0m \u001b[0;32min\u001b[0m \u001b[0mself\u001b[0m\u001b[0;34m.\u001b[0m\u001b[0mfeatures\u001b[0m\u001b[0;34m}\u001b[0m\u001b[0;34m\u001b[0m\u001b[0;34m\u001b[0m\u001b[0m\n\u001b[1;32m    452\u001b[0m             \u001b[0;32mwith\u001b[0m \u001b[0mtemp_seed\u001b[0m\u001b[0;34m(\u001b[0m\u001b[0mself\u001b[0m\u001b[0;34m.\u001b[0m\u001b[0mseed\u001b[0m\u001b[0;34m)\u001b[0m\u001b[0;34m:\u001b[0m\u001b[0;34m\u001b[0m\u001b[0;34m\u001b[0m\u001b[0m\n\u001b[0;32m--> 453\u001b[0;31m                 \u001b[0moutput\u001b[0m \u001b[0;34m=\u001b[0m \u001b[0mself\u001b[0m\u001b[0;34m.\u001b[0m\u001b[0m_compute\u001b[0m\u001b[0;34m(\u001b[0m\u001b[0;34m**\u001b[0m\u001b[0minputs\u001b[0m\u001b[0;34m,\u001b[0m \u001b[0;34m**\u001b[0m\u001b[0mcompute_kwargs\u001b[0m\u001b[0;34m)\u001b[0m\u001b[0;34m\u001b[0m\u001b[0;34m\u001b[0m\u001b[0m\n\u001b[0m\u001b[1;32m    454\u001b[0m \u001b[0;34m\u001b[0m\u001b[0m\n\u001b[1;32m    455\u001b[0m             \u001b[0;32mif\u001b[0m \u001b[0mself\u001b[0m\u001b[0;34m.\u001b[0m\u001b[0mbuf_writer\u001b[0m \u001b[0;32mis\u001b[0m \u001b[0;32mnot\u001b[0m \u001b[0;32mNone\u001b[0m\u001b[0;34m:\u001b[0m\u001b[0;34m\u001b[0m\u001b[0;34m\u001b[0m\u001b[0m\n",
      "\u001b[0;32m~/.cache/huggingface/modules/datasets_modules/metrics/wer/959256dcd2f8f341e108aa768b4433db0dd58f85e23e818e491c2d6d0f84113b/wer.py\u001b[0m in \u001b[0;36m_compute\u001b[0;34m(self, predictions, references, concatenate_texts)\u001b[0m\n\u001b[1;32m    100\u001b[0m             \u001b[0mtotal\u001b[0m \u001b[0;34m=\u001b[0m \u001b[0;36m0\u001b[0m\u001b[0;34m\u001b[0m\u001b[0;34m\u001b[0m\u001b[0m\n\u001b[1;32m    101\u001b[0m             \u001b[0;32mfor\u001b[0m \u001b[0mprediction\u001b[0m\u001b[0;34m,\u001b[0m \u001b[0mreference\u001b[0m \u001b[0;32min\u001b[0m \u001b[0mzip\u001b[0m\u001b[0;34m(\u001b[0m\u001b[0mpredictions\u001b[0m\u001b[0;34m,\u001b[0m \u001b[0mreferences\u001b[0m\u001b[0;34m)\u001b[0m\u001b[0;34m:\u001b[0m\u001b[0;34m\u001b[0m\u001b[0;34m\u001b[0m\u001b[0m\n\u001b[0;32m--> 102\u001b[0;31m                 \u001b[0mmeasures\u001b[0m \u001b[0;34m=\u001b[0m \u001b[0mcompute_measures\u001b[0m\u001b[0;34m(\u001b[0m\u001b[0mreference\u001b[0m\u001b[0;34m,\u001b[0m \u001b[0mprediction\u001b[0m\u001b[0;34m)\u001b[0m\u001b[0;34m\u001b[0m\u001b[0;34m\u001b[0m\u001b[0m\n\u001b[0m\u001b[1;32m    103\u001b[0m                 \u001b[0mincorrect\u001b[0m \u001b[0;34m+=\u001b[0m \u001b[0mmeasures\u001b[0m\u001b[0;34m[\u001b[0m\u001b[0;34m\"substitutions\"\u001b[0m\u001b[0;34m]\u001b[0m \u001b[0;34m+\u001b[0m \u001b[0mmeasures\u001b[0m\u001b[0;34m[\u001b[0m\u001b[0;34m\"deletions\"\u001b[0m\u001b[0;34m]\u001b[0m \u001b[0;34m+\u001b[0m \u001b[0mmeasures\u001b[0m\u001b[0;34m[\u001b[0m\u001b[0;34m\"insertions\"\u001b[0m\u001b[0;34m]\u001b[0m\u001b[0;34m\u001b[0m\u001b[0;34m\u001b[0m\u001b[0m\n\u001b[1;32m    104\u001b[0m                 \u001b[0mtotal\u001b[0m \u001b[0;34m+=\u001b[0m \u001b[0mmeasures\u001b[0m\u001b[0;34m[\u001b[0m\u001b[0;34m\"substitutions\"\u001b[0m\u001b[0;34m]\u001b[0m \u001b[0;34m+\u001b[0m \u001b[0mmeasures\u001b[0m\u001b[0;34m[\u001b[0m\u001b[0;34m\"deletions\"\u001b[0m\u001b[0;34m]\u001b[0m \u001b[0;34m+\u001b[0m \u001b[0mmeasures\u001b[0m\u001b[0;34m[\u001b[0m\u001b[0;34m\"hits\"\u001b[0m\u001b[0;34m]\u001b[0m\u001b[0;34m\u001b[0m\u001b[0;34m\u001b[0m\u001b[0m\n",
      "\u001b[0;32m~/anaconda3/lib/python3.9/site-packages/jiwer/measures.py\u001b[0m in \u001b[0;36mcompute_measures\u001b[0;34m(truth, hypothesis, truth_transform, hypothesis_transform)\u001b[0m\n\u001b[1;32m    180\u001b[0m \u001b[0;34m\u001b[0m\u001b[0m\n\u001b[1;32m    181\u001b[0m     \u001b[0;31m# Preprocess truth and hypothesis\u001b[0m\u001b[0;34m\u001b[0m\u001b[0;34m\u001b[0m\u001b[0m\n\u001b[0;32m--> 182\u001b[0;31m     truth, hypothesis = _preprocess(\n\u001b[0m\u001b[1;32m    183\u001b[0m         \u001b[0mtruth\u001b[0m\u001b[0;34m,\u001b[0m \u001b[0mhypothesis\u001b[0m\u001b[0;34m,\u001b[0m \u001b[0mtruth_transform\u001b[0m\u001b[0;34m,\u001b[0m \u001b[0mhypothesis_transform\u001b[0m\u001b[0;34m\u001b[0m\u001b[0;34m\u001b[0m\u001b[0m\n\u001b[1;32m    184\u001b[0m     )\n",
      "\u001b[0;32m~/anaconda3/lib/python3.9/site-packages/jiwer/measures.py\u001b[0m in \u001b[0;36m_preprocess\u001b[0;34m(truth, hypothesis, truth_transform, hypothesis_transform)\u001b[0m\n\u001b[1;32m    304\u001b[0m         )\n\u001b[1;32m    305\u001b[0m     \u001b[0;32mif\u001b[0m \u001b[0;32mnot\u001b[0m \u001b[0m_is_list_of_list_of_strings\u001b[0m\u001b[0;34m(\u001b[0m\u001b[0mtransformed_truth\u001b[0m\u001b[0;34m,\u001b[0m \u001b[0mrequire_non_empty_lists\u001b[0m\u001b[0;34m=\u001b[0m\u001b[0;32mTrue\u001b[0m\u001b[0;34m)\u001b[0m\u001b[0;34m:\u001b[0m\u001b[0;34m\u001b[0m\u001b[0;34m\u001b[0m\u001b[0m\n\u001b[0;32m--> 306\u001b[0;31m         raise ValueError(\n\u001b[0m\u001b[1;32m    307\u001b[0m             \u001b[0;34m\"truth should be a list of list of strings after transform which are non-empty\"\u001b[0m\u001b[0;34m\u001b[0m\u001b[0;34m\u001b[0m\u001b[0m\n\u001b[1;32m    308\u001b[0m         )\n",
      "\u001b[0;31mValueError\u001b[0m: truth should be a list of list of strings after transform which are non-empty"
     ]
    }
   ],
   "source": [
    "def evaluate(batch):\n",
    "    inputs = processor(batch[\"speech\"], sampling_rate=16_000, return_tensors=\"pt\", padding=True)\n",
    "\n",
    "    with torch.no_grad():\n",
    "        logits = model(inputs.input_values.to(\"cuda\"), attention_mask=inputs.attention_mask.to(\"cuda\")).logits\n",
    "\n",
    "    pred_ids = torch.argmax(logits, dim=-1)\n",
    "    batch[\"pred_strings\"] = processor.batch_decode(pred_ids)\n",
    "    return batch\n",
    "\n",
    "result = data_test.map(evaluate, batched=True, batch_size=1)"
   ]
  },
  {
   "cell_type": "code",
   "execution_count": 23,
   "id": "9124f2df",
   "metadata": {},
   "outputs": [
    {
     "name": "stdout",
     "output_type": "stream",
     "text": [
      "WER: 100.094880\n"
     ]
    }
   ],
   "source": [
    "print(\"WER: {:2f}\".format(100 * wer_metric.compute(predictions=result[\"pred_strings\"], references=[[i] for i in result[\"sentence\"]])))"
   ]
  },
  {
   "cell_type": "code",
   "execution_count": 24,
   "id": "527a2ca2",
   "metadata": {},
   "outputs": [
    {
     "data": {
      "text/plain": [
       "Wav2Vec2ForCTC(\n",
       "  (wav2vec2): Wav2Vec2Model(\n",
       "    (feature_extractor): Wav2Vec2FeatureEncoder(\n",
       "      (conv_layers): ModuleList(\n",
       "        (0): Wav2Vec2GroupNormConvLayer(\n",
       "          (conv): Conv1d(1, 512, kernel_size=(10,), stride=(5,), bias=False)\n",
       "          (activation): GELUActivation()\n",
       "          (layer_norm): GroupNorm(512, 512, eps=1e-05, affine=True)\n",
       "        )\n",
       "        (1): Wav2Vec2NoLayerNormConvLayer(\n",
       "          (conv): Conv1d(512, 512, kernel_size=(3,), stride=(2,), bias=False)\n",
       "          (activation): GELUActivation()\n",
       "        )\n",
       "        (2): Wav2Vec2NoLayerNormConvLayer(\n",
       "          (conv): Conv1d(512, 512, kernel_size=(3,), stride=(2,), bias=False)\n",
       "          (activation): GELUActivation()\n",
       "        )\n",
       "        (3): Wav2Vec2NoLayerNormConvLayer(\n",
       "          (conv): Conv1d(512, 512, kernel_size=(3,), stride=(2,), bias=False)\n",
       "          (activation): GELUActivation()\n",
       "        )\n",
       "        (4): Wav2Vec2NoLayerNormConvLayer(\n",
       "          (conv): Conv1d(512, 512, kernel_size=(3,), stride=(2,), bias=False)\n",
       "          (activation): GELUActivation()\n",
       "        )\n",
       "        (5): Wav2Vec2NoLayerNormConvLayer(\n",
       "          (conv): Conv1d(512, 512, kernel_size=(2,), stride=(2,), bias=False)\n",
       "          (activation): GELUActivation()\n",
       "        )\n",
       "        (6): Wav2Vec2NoLayerNormConvLayer(\n",
       "          (conv): Conv1d(512, 512, kernel_size=(2,), stride=(2,), bias=False)\n",
       "          (activation): GELUActivation()\n",
       "        )\n",
       "      )\n",
       "    )\n",
       "    (feature_projection): Wav2Vec2FeatureProjection(\n",
       "      (layer_norm): LayerNorm((512,), eps=1e-05, elementwise_affine=True)\n",
       "      (projection): Linear(in_features=512, out_features=768, bias=True)\n",
       "      (dropout): Dropout(p=0.0, inplace=False)\n",
       "    )\n",
       "    (encoder): Wav2Vec2Encoder(\n",
       "      (pos_conv_embed): Wav2Vec2PositionalConvEmbedding(\n",
       "        (conv): Conv1d(768, 768, kernel_size=(128,), stride=(1,), padding=(64,), groups=16)\n",
       "        (padding): Wav2Vec2SamePadLayer()\n",
       "        (activation): GELUActivation()\n",
       "      )\n",
       "      (layer_norm): LayerNorm((768,), eps=1e-05, elementwise_affine=True)\n",
       "      (dropout): Dropout(p=0.1, inplace=False)\n",
       "      (layers): ModuleList(\n",
       "        (0): Wav2Vec2EncoderLayer(\n",
       "          (attention): Wav2Vec2Attention(\n",
       "            (k_proj): Linear(in_features=768, out_features=768, bias=True)\n",
       "            (v_proj): Linear(in_features=768, out_features=768, bias=True)\n",
       "            (q_proj): Linear(in_features=768, out_features=768, bias=True)\n",
       "            (out_proj): Linear(in_features=768, out_features=768, bias=True)\n",
       "          )\n",
       "          (dropout): Dropout(p=0.1, inplace=False)\n",
       "          (layer_norm): LayerNorm((768,), eps=1e-05, elementwise_affine=True)\n",
       "          (feed_forward): Wav2Vec2FeedForward(\n",
       "            (intermediate_dropout): Dropout(p=0.1, inplace=False)\n",
       "            (intermediate_dense): Linear(in_features=768, out_features=3072, bias=True)\n",
       "            (intermediate_act_fn): GELUActivation()\n",
       "            (output_dense): Linear(in_features=3072, out_features=768, bias=True)\n",
       "            (output_dropout): Dropout(p=0.1, inplace=False)\n",
       "          )\n",
       "          (final_layer_norm): LayerNorm((768,), eps=1e-05, elementwise_affine=True)\n",
       "        )\n",
       "        (1): Wav2Vec2EncoderLayer(\n",
       "          (attention): Wav2Vec2Attention(\n",
       "            (k_proj): Linear(in_features=768, out_features=768, bias=True)\n",
       "            (v_proj): Linear(in_features=768, out_features=768, bias=True)\n",
       "            (q_proj): Linear(in_features=768, out_features=768, bias=True)\n",
       "            (out_proj): Linear(in_features=768, out_features=768, bias=True)\n",
       "          )\n",
       "          (dropout): Dropout(p=0.1, inplace=False)\n",
       "          (layer_norm): LayerNorm((768,), eps=1e-05, elementwise_affine=True)\n",
       "          (feed_forward): Wav2Vec2FeedForward(\n",
       "            (intermediate_dropout): Dropout(p=0.1, inplace=False)\n",
       "            (intermediate_dense): Linear(in_features=768, out_features=3072, bias=True)\n",
       "            (intermediate_act_fn): GELUActivation()\n",
       "            (output_dense): Linear(in_features=3072, out_features=768, bias=True)\n",
       "            (output_dropout): Dropout(p=0.1, inplace=False)\n",
       "          )\n",
       "          (final_layer_norm): LayerNorm((768,), eps=1e-05, elementwise_affine=True)\n",
       "        )\n",
       "        (2): Wav2Vec2EncoderLayer(\n",
       "          (attention): Wav2Vec2Attention(\n",
       "            (k_proj): Linear(in_features=768, out_features=768, bias=True)\n",
       "            (v_proj): Linear(in_features=768, out_features=768, bias=True)\n",
       "            (q_proj): Linear(in_features=768, out_features=768, bias=True)\n",
       "            (out_proj): Linear(in_features=768, out_features=768, bias=True)\n",
       "          )\n",
       "          (dropout): Dropout(p=0.1, inplace=False)\n",
       "          (layer_norm): LayerNorm((768,), eps=1e-05, elementwise_affine=True)\n",
       "          (feed_forward): Wav2Vec2FeedForward(\n",
       "            (intermediate_dropout): Dropout(p=0.1, inplace=False)\n",
       "            (intermediate_dense): Linear(in_features=768, out_features=3072, bias=True)\n",
       "            (intermediate_act_fn): GELUActivation()\n",
       "            (output_dense): Linear(in_features=3072, out_features=768, bias=True)\n",
       "            (output_dropout): Dropout(p=0.1, inplace=False)\n",
       "          )\n",
       "          (final_layer_norm): LayerNorm((768,), eps=1e-05, elementwise_affine=True)\n",
       "        )\n",
       "        (3): Wav2Vec2EncoderLayer(\n",
       "          (attention): Wav2Vec2Attention(\n",
       "            (k_proj): Linear(in_features=768, out_features=768, bias=True)\n",
       "            (v_proj): Linear(in_features=768, out_features=768, bias=True)\n",
       "            (q_proj): Linear(in_features=768, out_features=768, bias=True)\n",
       "            (out_proj): Linear(in_features=768, out_features=768, bias=True)\n",
       "          )\n",
       "          (dropout): Dropout(p=0.1, inplace=False)\n",
       "          (layer_norm): LayerNorm((768,), eps=1e-05, elementwise_affine=True)\n",
       "          (feed_forward): Wav2Vec2FeedForward(\n",
       "            (intermediate_dropout): Dropout(p=0.1, inplace=False)\n",
       "            (intermediate_dense): Linear(in_features=768, out_features=3072, bias=True)\n",
       "            (intermediate_act_fn): GELUActivation()\n",
       "            (output_dense): Linear(in_features=3072, out_features=768, bias=True)\n",
       "            (output_dropout): Dropout(p=0.1, inplace=False)\n",
       "          )\n",
       "          (final_layer_norm): LayerNorm((768,), eps=1e-05, elementwise_affine=True)\n",
       "        )\n",
       "        (4): Wav2Vec2EncoderLayer(\n",
       "          (attention): Wav2Vec2Attention(\n",
       "            (k_proj): Linear(in_features=768, out_features=768, bias=True)\n",
       "            (v_proj): Linear(in_features=768, out_features=768, bias=True)\n",
       "            (q_proj): Linear(in_features=768, out_features=768, bias=True)\n",
       "            (out_proj): Linear(in_features=768, out_features=768, bias=True)\n",
       "          )\n",
       "          (dropout): Dropout(p=0.1, inplace=False)\n",
       "          (layer_norm): LayerNorm((768,), eps=1e-05, elementwise_affine=True)\n",
       "          (feed_forward): Wav2Vec2FeedForward(\n",
       "            (intermediate_dropout): Dropout(p=0.1, inplace=False)\n",
       "            (intermediate_dense): Linear(in_features=768, out_features=3072, bias=True)\n",
       "            (intermediate_act_fn): GELUActivation()\n",
       "            (output_dense): Linear(in_features=3072, out_features=768, bias=True)\n",
       "            (output_dropout): Dropout(p=0.1, inplace=False)\n",
       "          )\n",
       "          (final_layer_norm): LayerNorm((768,), eps=1e-05, elementwise_affine=True)\n",
       "        )\n",
       "        (5): Wav2Vec2EncoderLayer(\n",
       "          (attention): Wav2Vec2Attention(\n",
       "            (k_proj): Linear(in_features=768, out_features=768, bias=True)\n",
       "            (v_proj): Linear(in_features=768, out_features=768, bias=True)\n",
       "            (q_proj): Linear(in_features=768, out_features=768, bias=True)\n",
       "            (out_proj): Linear(in_features=768, out_features=768, bias=True)\n",
       "          )\n",
       "          (dropout): Dropout(p=0.1, inplace=False)\n",
       "          (layer_norm): LayerNorm((768,), eps=1e-05, elementwise_affine=True)\n",
       "          (feed_forward): Wav2Vec2FeedForward(\n",
       "            (intermediate_dropout): Dropout(p=0.1, inplace=False)\n",
       "            (intermediate_dense): Linear(in_features=768, out_features=3072, bias=True)\n",
       "            (intermediate_act_fn): GELUActivation()\n",
       "            (output_dense): Linear(in_features=3072, out_features=768, bias=True)\n",
       "            (output_dropout): Dropout(p=0.1, inplace=False)\n",
       "          )\n",
       "          (final_layer_norm): LayerNorm((768,), eps=1e-05, elementwise_affine=True)\n",
       "        )\n",
       "        (6): Wav2Vec2EncoderLayer(\n",
       "          (attention): Wav2Vec2Attention(\n",
       "            (k_proj): Linear(in_features=768, out_features=768, bias=True)\n",
       "            (v_proj): Linear(in_features=768, out_features=768, bias=True)\n",
       "            (q_proj): Linear(in_features=768, out_features=768, bias=True)\n",
       "            (out_proj): Linear(in_features=768, out_features=768, bias=True)\n",
       "          )\n",
       "          (dropout): Dropout(p=0.1, inplace=False)\n",
       "          (layer_norm): LayerNorm((768,), eps=1e-05, elementwise_affine=True)\n",
       "          (feed_forward): Wav2Vec2FeedForward(\n",
       "            (intermediate_dropout): Dropout(p=0.1, inplace=False)\n",
       "            (intermediate_dense): Linear(in_features=768, out_features=3072, bias=True)\n",
       "            (intermediate_act_fn): GELUActivation()\n",
       "            (output_dense): Linear(in_features=3072, out_features=768, bias=True)\n",
       "            (output_dropout): Dropout(p=0.1, inplace=False)\n",
       "          )\n",
       "          (final_layer_norm): LayerNorm((768,), eps=1e-05, elementwise_affine=True)\n",
       "        )\n",
       "        (7): Wav2Vec2EncoderLayer(\n",
       "          (attention): Wav2Vec2Attention(\n",
       "            (k_proj): Linear(in_features=768, out_features=768, bias=True)\n",
       "            (v_proj): Linear(in_features=768, out_features=768, bias=True)\n",
       "            (q_proj): Linear(in_features=768, out_features=768, bias=True)\n",
       "            (out_proj): Linear(in_features=768, out_features=768, bias=True)\n",
       "          )\n",
       "          (dropout): Dropout(p=0.1, inplace=False)\n",
       "          (layer_norm): LayerNorm((768,), eps=1e-05, elementwise_affine=True)\n",
       "          (feed_forward): Wav2Vec2FeedForward(\n",
       "            (intermediate_dropout): Dropout(p=0.1, inplace=False)\n",
       "            (intermediate_dense): Linear(in_features=768, out_features=3072, bias=True)\n",
       "            (intermediate_act_fn): GELUActivation()\n",
       "            (output_dense): Linear(in_features=3072, out_features=768, bias=True)\n",
       "            (output_dropout): Dropout(p=0.1, inplace=False)\n",
       "          )\n",
       "          (final_layer_norm): LayerNorm((768,), eps=1e-05, elementwise_affine=True)\n",
       "        )\n",
       "        (8): Wav2Vec2EncoderLayer(\n",
       "          (attention): Wav2Vec2Attention(\n",
       "            (k_proj): Linear(in_features=768, out_features=768, bias=True)\n",
       "            (v_proj): Linear(in_features=768, out_features=768, bias=True)\n",
       "            (q_proj): Linear(in_features=768, out_features=768, bias=True)\n",
       "            (out_proj): Linear(in_features=768, out_features=768, bias=True)\n",
       "          )\n",
       "          (dropout): Dropout(p=0.1, inplace=False)\n",
       "          (layer_norm): LayerNorm((768,), eps=1e-05, elementwise_affine=True)\n",
       "          (feed_forward): Wav2Vec2FeedForward(\n",
       "            (intermediate_dropout): Dropout(p=0.1, inplace=False)\n",
       "            (intermediate_dense): Linear(in_features=768, out_features=3072, bias=True)\n",
       "            (intermediate_act_fn): GELUActivation()\n",
       "            (output_dense): Linear(in_features=3072, out_features=768, bias=True)\n",
       "            (output_dropout): Dropout(p=0.1, inplace=False)\n",
       "          )\n",
       "          (final_layer_norm): LayerNorm((768,), eps=1e-05, elementwise_affine=True)\n",
       "        )\n",
       "        (9): Wav2Vec2EncoderLayer(\n",
       "          (attention): Wav2Vec2Attention(\n",
       "            (k_proj): Linear(in_features=768, out_features=768, bias=True)\n",
       "            (v_proj): Linear(in_features=768, out_features=768, bias=True)\n",
       "            (q_proj): Linear(in_features=768, out_features=768, bias=True)\n",
       "            (out_proj): Linear(in_features=768, out_features=768, bias=True)\n",
       "          )\n",
       "          (dropout): Dropout(p=0.1, inplace=False)\n",
       "          (layer_norm): LayerNorm((768,), eps=1e-05, elementwise_affine=True)\n",
       "          (feed_forward): Wav2Vec2FeedForward(\n",
       "            (intermediate_dropout): Dropout(p=0.1, inplace=False)\n",
       "            (intermediate_dense): Linear(in_features=768, out_features=3072, bias=True)\n",
       "            (intermediate_act_fn): GELUActivation()\n",
       "            (output_dense): Linear(in_features=3072, out_features=768, bias=True)\n",
       "            (output_dropout): Dropout(p=0.1, inplace=False)\n",
       "          )\n",
       "          (final_layer_norm): LayerNorm((768,), eps=1e-05, elementwise_affine=True)\n",
       "        )\n",
       "        (10): Wav2Vec2EncoderLayer(\n",
       "          (attention): Wav2Vec2Attention(\n",
       "            (k_proj): Linear(in_features=768, out_features=768, bias=True)\n",
       "            (v_proj): Linear(in_features=768, out_features=768, bias=True)\n",
       "            (q_proj): Linear(in_features=768, out_features=768, bias=True)\n",
       "            (out_proj): Linear(in_features=768, out_features=768, bias=True)\n",
       "          )\n",
       "          (dropout): Dropout(p=0.1, inplace=False)\n",
       "          (layer_norm): LayerNorm((768,), eps=1e-05, elementwise_affine=True)\n",
       "          (feed_forward): Wav2Vec2FeedForward(\n",
       "            (intermediate_dropout): Dropout(p=0.1, inplace=False)\n",
       "            (intermediate_dense): Linear(in_features=768, out_features=3072, bias=True)\n",
       "            (intermediate_act_fn): GELUActivation()\n",
       "            (output_dense): Linear(in_features=3072, out_features=768, bias=True)\n",
       "            (output_dropout): Dropout(p=0.1, inplace=False)\n",
       "          )\n",
       "          (final_layer_norm): LayerNorm((768,), eps=1e-05, elementwise_affine=True)\n",
       "        )\n",
       "        (11): Wav2Vec2EncoderLayer(\n",
       "          (attention): Wav2Vec2Attention(\n",
       "            (k_proj): Linear(in_features=768, out_features=768, bias=True)\n",
       "            (v_proj): Linear(in_features=768, out_features=768, bias=True)\n",
       "            (q_proj): Linear(in_features=768, out_features=768, bias=True)\n",
       "            (out_proj): Linear(in_features=768, out_features=768, bias=True)\n",
       "          )\n",
       "          (dropout): Dropout(p=0.1, inplace=False)\n",
       "          (layer_norm): LayerNorm((768,), eps=1e-05, elementwise_affine=True)\n",
       "          (feed_forward): Wav2Vec2FeedForward(\n",
       "            (intermediate_dropout): Dropout(p=0.1, inplace=False)\n",
       "            (intermediate_dense): Linear(in_features=768, out_features=3072, bias=True)\n",
       "            (intermediate_act_fn): GELUActivation()\n",
       "            (output_dense): Linear(in_features=3072, out_features=768, bias=True)\n",
       "            (output_dropout): Dropout(p=0.1, inplace=False)\n",
       "          )\n",
       "          (final_layer_norm): LayerNorm((768,), eps=1e-05, elementwise_affine=True)\n",
       "        )\n",
       "      )\n",
       "    )\n",
       "  )\n",
       "  (dropout): Dropout(p=0.1, inplace=False)\n",
       "  (lm_head): Linear(in_features=768, out_features=65, bias=True)\n",
       ")"
      ]
     },
     "execution_count": 24,
     "metadata": {},
     "output_type": "execute_result"
    }
   ],
   "source": [
    "from transformers import Wav2Vec2ForCTC\n",
    "\n",
    "model = Wav2Vec2ForCTC.from_pretrained(\n",
    "    \"wav2vec2-basee-ru-demo/checkpoint-1500\", \n",
    "    attention_dropout=0.1,\n",
    "    hidden_dropout=0.1,\n",
    "    feat_proj_dropout=0.0,\n",
    "    mask_time_prob=0.05,\n",
    "    layerdrop=0.1,\n",
    "    ctc_loss_reduction=\"mean\", \n",
    "    pad_token_id=processor.tokenizer.pad_token_id,\n",
    "    vocab_size=len(processor.tokenizer)\n",
    ")\n",
    "model.to('cuda')"
   ]
  },
  {
   "cell_type": "code",
   "execution_count": 25,
   "id": "7329d819",
   "metadata": {},
   "outputs": [
    {
     "data": {
      "application/vnd.jupyter.widget-view+json": {
       "model_id": "4a93e67dbbed4edeacfcaf3b8aece508",
       "version_major": 2,
       "version_minor": 0
      },
      "text/plain": [
       "  0%|          | 0/9994 [00:00<?, ?ba/s]"
      ]
     },
     "metadata": {},
     "output_type": "display_data"
    }
   ],
   "source": [
    "result = data_test.map(evaluate, batched=True, batch_size=1)"
   ]
  },
  {
   "cell_type": "code",
   "execution_count": 27,
   "id": "30db0e7d",
   "metadata": {},
   "outputs": [
    {
     "name": "stdout",
     "output_type": "stream",
     "text": [
      "WER: 91.395533\n"
     ]
    }
   ],
   "source": [
    "print(\"WER: {:2f}\".format(100 * wer_metric.compute(predictions=result[\"pred_strings\"], references=[[i] for i in result[\"sentence\"]])))"
   ]
  },
  {
   "cell_type": "code",
   "execution_count": null,
   "id": "e5d7aa32",
   "metadata": {},
   "outputs": [],
   "source": []
  },
  {
   "cell_type": "code",
   "execution_count": null,
   "id": "fc579b4a",
   "metadata": {},
   "outputs": [],
   "source": []
  },
  {
   "cell_type": "code",
   "execution_count": null,
   "id": "8c6667e3",
   "metadata": {},
   "outputs": [],
   "source": []
  },
  {
   "cell_type": "code",
   "execution_count": null,
   "id": "3be0ad6f",
   "metadata": {},
   "outputs": [],
   "source": []
  }
 ],
 "metadata": {
  "kernelspec": {
   "display_name": "Python 3 (ipykernel)",
   "language": "python",
   "name": "python3"
  },
  "language_info": {
   "codemirror_mode": {
    "name": "ipython",
    "version": 3
   },
   "file_extension": ".py",
   "mimetype": "text/x-python",
   "name": "python",
   "nbconvert_exporter": "python",
   "pygments_lexer": "ipython3",
   "version": "3.9.13"
  }
 },
 "nbformat": 4,
 "nbformat_minor": 5
}
