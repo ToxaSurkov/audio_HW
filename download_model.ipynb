{
 "cells": [
  {
   "cell_type": "markdown",
   "id": "4ba4ac9e",
   "metadata": {},
   "source": [
    "Загружаем веса до обученной модели из https://disk.yandex.ru/d/Cpr7H0qFocWi6w"
   ]
  },
  {
   "cell_type": "code",
   "execution_count": 1,
   "id": "0d4a2909",
   "metadata": {},
   "outputs": [],
   "source": [
    "import os.path\n",
    "if not os.path.isfile('model.zip'):\n",
    "    import requests\n",
    "    from urllib.parse import urlencode\n",
    "\n",
    "    base_url = 'https://cloud-api.yandex.net/v1/disk/public/resources/download?'\n",
    "    public_key = 'https://disk.yandex.ru/d/Cpr7H0qFocWi6w'  # Сюда вписываете вашу ссылку\n",
    "\n",
    "    # Получаем загрузочную ссылку\n",
    "    final_url = base_url + urlencode(dict(public_key=public_key))\n",
    "    response = requests.get(final_url)\n",
    "    download_url = response.json()['href']\n",
    "\n",
    "    # Загружаем файл и сохраняем его\n",
    "    download_response = requests.get(download_url)\n",
    "    with open('model.zip', 'wb') as f:   # Здесь укажите нужный путь к файлу\n",
    "        f.write(download_response.content)"
   ]
  },
  {
   "cell_type": "code",
   "execution_count": 2,
   "id": "68adc3cb",
   "metadata": {},
   "outputs": [
    {
     "name": "stdout",
     "output_type": "stream",
     "text": [
      "Archive:  model.zip\n",
      "   creating: model/\n",
      "  inflating: model/config.json       \n",
      "  inflating: model/preprocessor_config.json  \n",
      "  inflating: model/pytorch_model.bin  \n",
      "  inflating: model/rng_state.pth     \n",
      "  inflating: model/scaler.pt         \n",
      "  inflating: model/scheduler.pt      \n",
      "  inflating: model/trainer_state.json  \n",
      "  inflating: model/training_args.bin  \n"
     ]
    }
   ],
   "source": [
    "!unzip model.zip"
   ]
  },
  {
   "cell_type": "code",
   "execution_count": 1,
   "id": "8986777a",
   "metadata": {},
   "outputs": [],
   "source": [
    "import os.path\n",
    "if not os.path.isfile('trained_model.zip'):\n",
    "    import requests\n",
    "    from urllib.parse import urlencode\n",
    "\n",
    "    base_url = 'https://cloud-api.yandex.net/v1/disk/public/resources/download?'\n",
    "    public_key = 'https://disk.yandex.ru/d/-6GetmTER-4uUA'  # Сюда вписываете вашу ссылку\n",
    "\n",
    "    # Получаем загрузочную ссылку\n",
    "    final_url = base_url + urlencode(dict(public_key=public_key))\n",
    "    response = requests.get(final_url)\n",
    "    download_url = response.json()['href']\n",
    "\n",
    "    # Загружаем файл и сохраняем его\n",
    "    download_response = requests.get(download_url)\n",
    "    with open('trained_model.zip', 'wb') as f:   # Здесь укажите нужный путь к файлу\n",
    "        f.write(download_response.content)"
   ]
  },
  {
   "cell_type": "code",
   "execution_count": 5,
   "id": "45757327",
   "metadata": {},
   "outputs": [],
   "source": [
    "!unzip trained_model.zip"
   ]
  }
 ],
 "metadata": {
  "kernelspec": {
   "display_name": "Python 3 (ipykernel)",
   "language": "python",
   "name": "python3"
  },
  "language_info": {
   "codemirror_mode": {
    "name": "ipython",
    "version": 3
   },
   "file_extension": ".py",
   "mimetype": "text/x-python",
   "name": "python",
   "nbconvert_exporter": "python",
   "pygments_lexer": "ipython3",
   "version": "3.9.13"
  }
 },
 "nbformat": 4,
 "nbformat_minor": 5
}
